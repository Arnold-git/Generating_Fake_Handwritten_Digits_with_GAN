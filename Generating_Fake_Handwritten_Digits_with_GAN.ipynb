{
  "nbformat": 4,
  "nbformat_minor": 0,
  "metadata": {
    "colab": {
      "name": "Generating_Fake_Handwritten_Digits_with_GAN.ipynb",
      "provenance": []
    },
    "kernelspec": {
      "name": "python3",
      "display_name": "Python 3"
    },
    "accelerator": "GPU",
    "widgets": {
      "application/vnd.jupyter.widget-state+json": {
        "875b66f730c347aa92f61ebb8b8c108a": {
          "model_module": "@jupyter-widgets/controls",
          "model_name": "HBoxModel",
          "state": {
            "_view_name": "HBoxView",
            "_dom_classes": [],
            "_model_name": "HBoxModel",
            "_view_module": "@jupyter-widgets/controls",
            "_model_module_version": "1.5.0",
            "_view_count": null,
            "_view_module_version": "1.5.0",
            "box_style": "",
            "layout": "IPY_MODEL_fa433790737848f6b3992365956a3f3f",
            "_model_module": "@jupyter-widgets/controls",
            "children": [
              "IPY_MODEL_268f97dcec37408f8bc781618c1843c1",
              "IPY_MODEL_618c9c48cc5e47fa8c7e9361fc214e42"
            ]
          }
        },
        "fa433790737848f6b3992365956a3f3f": {
          "model_module": "@jupyter-widgets/base",
          "model_name": "LayoutModel",
          "state": {
            "_view_name": "LayoutView",
            "grid_template_rows": null,
            "right": null,
            "justify_content": null,
            "_view_module": "@jupyter-widgets/base",
            "overflow": null,
            "_model_module_version": "1.2.0",
            "_view_count": null,
            "flex_flow": null,
            "width": null,
            "min_width": null,
            "border": null,
            "align_items": null,
            "bottom": null,
            "_model_module": "@jupyter-widgets/base",
            "top": null,
            "grid_column": null,
            "overflow_y": null,
            "overflow_x": null,
            "grid_auto_flow": null,
            "grid_area": null,
            "grid_template_columns": null,
            "flex": null,
            "_model_name": "LayoutModel",
            "justify_items": null,
            "grid_row": null,
            "max_height": null,
            "align_content": null,
            "visibility": null,
            "align_self": null,
            "height": null,
            "min_height": null,
            "padding": null,
            "grid_auto_rows": null,
            "grid_gap": null,
            "max_width": null,
            "order": null,
            "_view_module_version": "1.2.0",
            "grid_template_areas": null,
            "object_position": null,
            "object_fit": null,
            "grid_auto_columns": null,
            "margin": null,
            "display": null,
            "left": null
          }
        },
        "268f97dcec37408f8bc781618c1843c1": {
          "model_module": "@jupyter-widgets/controls",
          "model_name": "FloatProgressModel",
          "state": {
            "_view_name": "ProgressView",
            "style": "IPY_MODEL_618634a18a774ee780c2bf596b0703ce",
            "_dom_classes": [],
            "description": "",
            "_model_name": "FloatProgressModel",
            "bar_style": "info",
            "max": 1,
            "_view_module": "@jupyter-widgets/controls",
            "_model_module_version": "1.5.0",
            "value": 1,
            "_view_count": null,
            "_view_module_version": "1.5.0",
            "orientation": "horizontal",
            "min": 0,
            "description_tooltip": null,
            "_model_module": "@jupyter-widgets/controls",
            "layout": "IPY_MODEL_f4a7b315247940dd8dc40800552be6cc"
          }
        },
        "618c9c48cc5e47fa8c7e9361fc214e42": {
          "model_module": "@jupyter-widgets/controls",
          "model_name": "HTMLModel",
          "state": {
            "_view_name": "HTMLView",
            "style": "IPY_MODEL_a392f2c6691940b0bdda5a36b20fa04d",
            "_dom_classes": [],
            "description": "",
            "_model_name": "HTMLModel",
            "placeholder": "​",
            "_view_module": "@jupyter-widgets/controls",
            "_model_module_version": "1.5.0",
            "value": " 9920512/? [00:20&lt;00:00, 1074768.70it/s]",
            "_view_count": null,
            "_view_module_version": "1.5.0",
            "description_tooltip": null,
            "_model_module": "@jupyter-widgets/controls",
            "layout": "IPY_MODEL_818f26c2375e45f7b2b5b9e3bef0ebda"
          }
        },
        "618634a18a774ee780c2bf596b0703ce": {
          "model_module": "@jupyter-widgets/controls",
          "model_name": "ProgressStyleModel",
          "state": {
            "_view_name": "StyleView",
            "_model_name": "ProgressStyleModel",
            "description_width": "initial",
            "_view_module": "@jupyter-widgets/base",
            "_model_module_version": "1.5.0",
            "_view_count": null,
            "_view_module_version": "1.2.0",
            "bar_color": null,
            "_model_module": "@jupyter-widgets/controls"
          }
        },
        "f4a7b315247940dd8dc40800552be6cc": {
          "model_module": "@jupyter-widgets/base",
          "model_name": "LayoutModel",
          "state": {
            "_view_name": "LayoutView",
            "grid_template_rows": null,
            "right": null,
            "justify_content": null,
            "_view_module": "@jupyter-widgets/base",
            "overflow": null,
            "_model_module_version": "1.2.0",
            "_view_count": null,
            "flex_flow": null,
            "width": null,
            "min_width": null,
            "border": null,
            "align_items": null,
            "bottom": null,
            "_model_module": "@jupyter-widgets/base",
            "top": null,
            "grid_column": null,
            "overflow_y": null,
            "overflow_x": null,
            "grid_auto_flow": null,
            "grid_area": null,
            "grid_template_columns": null,
            "flex": null,
            "_model_name": "LayoutModel",
            "justify_items": null,
            "grid_row": null,
            "max_height": null,
            "align_content": null,
            "visibility": null,
            "align_self": null,
            "height": null,
            "min_height": null,
            "padding": null,
            "grid_auto_rows": null,
            "grid_gap": null,
            "max_width": null,
            "order": null,
            "_view_module_version": "1.2.0",
            "grid_template_areas": null,
            "object_position": null,
            "object_fit": null,
            "grid_auto_columns": null,
            "margin": null,
            "display": null,
            "left": null
          }
        },
        "a392f2c6691940b0bdda5a36b20fa04d": {
          "model_module": "@jupyter-widgets/controls",
          "model_name": "DescriptionStyleModel",
          "state": {
            "_view_name": "StyleView",
            "_model_name": "DescriptionStyleModel",
            "description_width": "",
            "_view_module": "@jupyter-widgets/base",
            "_model_module_version": "1.5.0",
            "_view_count": null,
            "_view_module_version": "1.2.0",
            "_model_module": "@jupyter-widgets/controls"
          }
        },
        "818f26c2375e45f7b2b5b9e3bef0ebda": {
          "model_module": "@jupyter-widgets/base",
          "model_name": "LayoutModel",
          "state": {
            "_view_name": "LayoutView",
            "grid_template_rows": null,
            "right": null,
            "justify_content": null,
            "_view_module": "@jupyter-widgets/base",
            "overflow": null,
            "_model_module_version": "1.2.0",
            "_view_count": null,
            "flex_flow": null,
            "width": null,
            "min_width": null,
            "border": null,
            "align_items": null,
            "bottom": null,
            "_model_module": "@jupyter-widgets/base",
            "top": null,
            "grid_column": null,
            "overflow_y": null,
            "overflow_x": null,
            "grid_auto_flow": null,
            "grid_area": null,
            "grid_template_columns": null,
            "flex": null,
            "_model_name": "LayoutModel",
            "justify_items": null,
            "grid_row": null,
            "max_height": null,
            "align_content": null,
            "visibility": null,
            "align_self": null,
            "height": null,
            "min_height": null,
            "padding": null,
            "grid_auto_rows": null,
            "grid_gap": null,
            "max_width": null,
            "order": null,
            "_view_module_version": "1.2.0",
            "grid_template_areas": null,
            "object_position": null,
            "object_fit": null,
            "grid_auto_columns": null,
            "margin": null,
            "display": null,
            "left": null
          }
        },
        "daab6d3a96ef457ba53a3f65d4734df7": {
          "model_module": "@jupyter-widgets/controls",
          "model_name": "HBoxModel",
          "state": {
            "_view_name": "HBoxView",
            "_dom_classes": [],
            "_model_name": "HBoxModel",
            "_view_module": "@jupyter-widgets/controls",
            "_model_module_version": "1.5.0",
            "_view_count": null,
            "_view_module_version": "1.5.0",
            "box_style": "",
            "layout": "IPY_MODEL_2c1a7d1728e64c52938a818543b0fd54",
            "_model_module": "@jupyter-widgets/controls",
            "children": [
              "IPY_MODEL_c5eeefe28dc043048b46c1034cb28076",
              "IPY_MODEL_baf2eadd246643328b3f439a9a8efe0b"
            ]
          }
        },
        "2c1a7d1728e64c52938a818543b0fd54": {
          "model_module": "@jupyter-widgets/base",
          "model_name": "LayoutModel",
          "state": {
            "_view_name": "LayoutView",
            "grid_template_rows": null,
            "right": null,
            "justify_content": null,
            "_view_module": "@jupyter-widgets/base",
            "overflow": null,
            "_model_module_version": "1.2.0",
            "_view_count": null,
            "flex_flow": null,
            "width": null,
            "min_width": null,
            "border": null,
            "align_items": null,
            "bottom": null,
            "_model_module": "@jupyter-widgets/base",
            "top": null,
            "grid_column": null,
            "overflow_y": null,
            "overflow_x": null,
            "grid_auto_flow": null,
            "grid_area": null,
            "grid_template_columns": null,
            "flex": null,
            "_model_name": "LayoutModel",
            "justify_items": null,
            "grid_row": null,
            "max_height": null,
            "align_content": null,
            "visibility": null,
            "align_self": null,
            "height": null,
            "min_height": null,
            "padding": null,
            "grid_auto_rows": null,
            "grid_gap": null,
            "max_width": null,
            "order": null,
            "_view_module_version": "1.2.0",
            "grid_template_areas": null,
            "object_position": null,
            "object_fit": null,
            "grid_auto_columns": null,
            "margin": null,
            "display": null,
            "left": null
          }
        },
        "c5eeefe28dc043048b46c1034cb28076": {
          "model_module": "@jupyter-widgets/controls",
          "model_name": "FloatProgressModel",
          "state": {
            "_view_name": "ProgressView",
            "style": "IPY_MODEL_ef253168b96b4d9ab437540ccd58144a",
            "_dom_classes": [],
            "description": "",
            "_model_name": "FloatProgressModel",
            "bar_style": "success",
            "max": 1,
            "_view_module": "@jupyter-widgets/controls",
            "_model_module_version": "1.5.0",
            "value": 1,
            "_view_count": null,
            "_view_module_version": "1.5.0",
            "orientation": "horizontal",
            "min": 0,
            "description_tooltip": null,
            "_model_module": "@jupyter-widgets/controls",
            "layout": "IPY_MODEL_50024fcfc1ea436c98702c96a5d8e7f8"
          }
        },
        "baf2eadd246643328b3f439a9a8efe0b": {
          "model_module": "@jupyter-widgets/controls",
          "model_name": "HTMLModel",
          "state": {
            "_view_name": "HTMLView",
            "style": "IPY_MODEL_10ab65bf03db4131b071560a6da98c4a",
            "_dom_classes": [],
            "description": "",
            "_model_name": "HTMLModel",
            "placeholder": "​",
            "_view_module": "@jupyter-widgets/controls",
            "_model_module_version": "1.5.0",
            "value": " 32768/? [00:01&lt;00:00, 19918.57it/s]",
            "_view_count": null,
            "_view_module_version": "1.5.0",
            "description_tooltip": null,
            "_model_module": "@jupyter-widgets/controls",
            "layout": "IPY_MODEL_8d84d470801f4090994f73348ddbf400"
          }
        },
        "ef253168b96b4d9ab437540ccd58144a": {
          "model_module": "@jupyter-widgets/controls",
          "model_name": "ProgressStyleModel",
          "state": {
            "_view_name": "StyleView",
            "_model_name": "ProgressStyleModel",
            "description_width": "initial",
            "_view_module": "@jupyter-widgets/base",
            "_model_module_version": "1.5.0",
            "_view_count": null,
            "_view_module_version": "1.2.0",
            "bar_color": null,
            "_model_module": "@jupyter-widgets/controls"
          }
        },
        "50024fcfc1ea436c98702c96a5d8e7f8": {
          "model_module": "@jupyter-widgets/base",
          "model_name": "LayoutModel",
          "state": {
            "_view_name": "LayoutView",
            "grid_template_rows": null,
            "right": null,
            "justify_content": null,
            "_view_module": "@jupyter-widgets/base",
            "overflow": null,
            "_model_module_version": "1.2.0",
            "_view_count": null,
            "flex_flow": null,
            "width": null,
            "min_width": null,
            "border": null,
            "align_items": null,
            "bottom": null,
            "_model_module": "@jupyter-widgets/base",
            "top": null,
            "grid_column": null,
            "overflow_y": null,
            "overflow_x": null,
            "grid_auto_flow": null,
            "grid_area": null,
            "grid_template_columns": null,
            "flex": null,
            "_model_name": "LayoutModel",
            "justify_items": null,
            "grid_row": null,
            "max_height": null,
            "align_content": null,
            "visibility": null,
            "align_self": null,
            "height": null,
            "min_height": null,
            "padding": null,
            "grid_auto_rows": null,
            "grid_gap": null,
            "max_width": null,
            "order": null,
            "_view_module_version": "1.2.0",
            "grid_template_areas": null,
            "object_position": null,
            "object_fit": null,
            "grid_auto_columns": null,
            "margin": null,
            "display": null,
            "left": null
          }
        },
        "10ab65bf03db4131b071560a6da98c4a": {
          "model_module": "@jupyter-widgets/controls",
          "model_name": "DescriptionStyleModel",
          "state": {
            "_view_name": "StyleView",
            "_model_name": "DescriptionStyleModel",
            "description_width": "",
            "_view_module": "@jupyter-widgets/base",
            "_model_module_version": "1.5.0",
            "_view_count": null,
            "_view_module_version": "1.2.0",
            "_model_module": "@jupyter-widgets/controls"
          }
        },
        "8d84d470801f4090994f73348ddbf400": {
          "model_module": "@jupyter-widgets/base",
          "model_name": "LayoutModel",
          "state": {
            "_view_name": "LayoutView",
            "grid_template_rows": null,
            "right": null,
            "justify_content": null,
            "_view_module": "@jupyter-widgets/base",
            "overflow": null,
            "_model_module_version": "1.2.0",
            "_view_count": null,
            "flex_flow": null,
            "width": null,
            "min_width": null,
            "border": null,
            "align_items": null,
            "bottom": null,
            "_model_module": "@jupyter-widgets/base",
            "top": null,
            "grid_column": null,
            "overflow_y": null,
            "overflow_x": null,
            "grid_auto_flow": null,
            "grid_area": null,
            "grid_template_columns": null,
            "flex": null,
            "_model_name": "LayoutModel",
            "justify_items": null,
            "grid_row": null,
            "max_height": null,
            "align_content": null,
            "visibility": null,
            "align_self": null,
            "height": null,
            "min_height": null,
            "padding": null,
            "grid_auto_rows": null,
            "grid_gap": null,
            "max_width": null,
            "order": null,
            "_view_module_version": "1.2.0",
            "grid_template_areas": null,
            "object_position": null,
            "object_fit": null,
            "grid_auto_columns": null,
            "margin": null,
            "display": null,
            "left": null
          }
        },
        "3bbff1ed95bb4be6939042ae3a214a5b": {
          "model_module": "@jupyter-widgets/controls",
          "model_name": "HBoxModel",
          "state": {
            "_view_name": "HBoxView",
            "_dom_classes": [],
            "_model_name": "HBoxModel",
            "_view_module": "@jupyter-widgets/controls",
            "_model_module_version": "1.5.0",
            "_view_count": null,
            "_view_module_version": "1.5.0",
            "box_style": "",
            "layout": "IPY_MODEL_31de2a04efd74e0faf1670f5084ded43",
            "_model_module": "@jupyter-widgets/controls",
            "children": [
              "IPY_MODEL_ea34e743d99b4c4c9e77e25bd7ef6104",
              "IPY_MODEL_4e1341e901bc4b1a9f4d19a8ec0e0e6b"
            ]
          }
        },
        "31de2a04efd74e0faf1670f5084ded43": {
          "model_module": "@jupyter-widgets/base",
          "model_name": "LayoutModel",
          "state": {
            "_view_name": "LayoutView",
            "grid_template_rows": null,
            "right": null,
            "justify_content": null,
            "_view_module": "@jupyter-widgets/base",
            "overflow": null,
            "_model_module_version": "1.2.0",
            "_view_count": null,
            "flex_flow": null,
            "width": null,
            "min_width": null,
            "border": null,
            "align_items": null,
            "bottom": null,
            "_model_module": "@jupyter-widgets/base",
            "top": null,
            "grid_column": null,
            "overflow_y": null,
            "overflow_x": null,
            "grid_auto_flow": null,
            "grid_area": null,
            "grid_template_columns": null,
            "flex": null,
            "_model_name": "LayoutModel",
            "justify_items": null,
            "grid_row": null,
            "max_height": null,
            "align_content": null,
            "visibility": null,
            "align_self": null,
            "height": null,
            "min_height": null,
            "padding": null,
            "grid_auto_rows": null,
            "grid_gap": null,
            "max_width": null,
            "order": null,
            "_view_module_version": "1.2.0",
            "grid_template_areas": null,
            "object_position": null,
            "object_fit": null,
            "grid_auto_columns": null,
            "margin": null,
            "display": null,
            "left": null
          }
        },
        "ea34e743d99b4c4c9e77e25bd7ef6104": {
          "model_module": "@jupyter-widgets/controls",
          "model_name": "FloatProgressModel",
          "state": {
            "_view_name": "ProgressView",
            "style": "IPY_MODEL_d8124dab9f1d400b9785b80baa534d03",
            "_dom_classes": [],
            "description": "",
            "_model_name": "FloatProgressModel",
            "bar_style": "success",
            "max": 1,
            "_view_module": "@jupyter-widgets/controls",
            "_model_module_version": "1.5.0",
            "value": 1,
            "_view_count": null,
            "_view_module_version": "1.5.0",
            "orientation": "horizontal",
            "min": 0,
            "description_tooltip": null,
            "_model_module": "@jupyter-widgets/controls",
            "layout": "IPY_MODEL_c9cdcdd8c44d41c397f13c6e39a6ad8c"
          }
        },
        "4e1341e901bc4b1a9f4d19a8ec0e0e6b": {
          "model_module": "@jupyter-widgets/controls",
          "model_name": "HTMLModel",
          "state": {
            "_view_name": "HTMLView",
            "style": "IPY_MODEL_abbd3af7ee804577bd9ae0be82da7368",
            "_dom_classes": [],
            "description": "",
            "_model_name": "HTMLModel",
            "placeholder": "​",
            "_view_module": "@jupyter-widgets/controls",
            "_model_module_version": "1.5.0",
            "value": " 1654784/? [00:01&lt;00:00, 1591941.05it/s]",
            "_view_count": null,
            "_view_module_version": "1.5.0",
            "description_tooltip": null,
            "_model_module": "@jupyter-widgets/controls",
            "layout": "IPY_MODEL_77524b7095b94379b2fc2bd457f38ef2"
          }
        },
        "d8124dab9f1d400b9785b80baa534d03": {
          "model_module": "@jupyter-widgets/controls",
          "model_name": "ProgressStyleModel",
          "state": {
            "_view_name": "StyleView",
            "_model_name": "ProgressStyleModel",
            "description_width": "initial",
            "_view_module": "@jupyter-widgets/base",
            "_model_module_version": "1.5.0",
            "_view_count": null,
            "_view_module_version": "1.2.0",
            "bar_color": null,
            "_model_module": "@jupyter-widgets/controls"
          }
        },
        "c9cdcdd8c44d41c397f13c6e39a6ad8c": {
          "model_module": "@jupyter-widgets/base",
          "model_name": "LayoutModel",
          "state": {
            "_view_name": "LayoutView",
            "grid_template_rows": null,
            "right": null,
            "justify_content": null,
            "_view_module": "@jupyter-widgets/base",
            "overflow": null,
            "_model_module_version": "1.2.0",
            "_view_count": null,
            "flex_flow": null,
            "width": null,
            "min_width": null,
            "border": null,
            "align_items": null,
            "bottom": null,
            "_model_module": "@jupyter-widgets/base",
            "top": null,
            "grid_column": null,
            "overflow_y": null,
            "overflow_x": null,
            "grid_auto_flow": null,
            "grid_area": null,
            "grid_template_columns": null,
            "flex": null,
            "_model_name": "LayoutModel",
            "justify_items": null,
            "grid_row": null,
            "max_height": null,
            "align_content": null,
            "visibility": null,
            "align_self": null,
            "height": null,
            "min_height": null,
            "padding": null,
            "grid_auto_rows": null,
            "grid_gap": null,
            "max_width": null,
            "order": null,
            "_view_module_version": "1.2.0",
            "grid_template_areas": null,
            "object_position": null,
            "object_fit": null,
            "grid_auto_columns": null,
            "margin": null,
            "display": null,
            "left": null
          }
        },
        "abbd3af7ee804577bd9ae0be82da7368": {
          "model_module": "@jupyter-widgets/controls",
          "model_name": "DescriptionStyleModel",
          "state": {
            "_view_name": "StyleView",
            "_model_name": "DescriptionStyleModel",
            "description_width": "",
            "_view_module": "@jupyter-widgets/base",
            "_model_module_version": "1.5.0",
            "_view_count": null,
            "_view_module_version": "1.2.0",
            "_model_module": "@jupyter-widgets/controls"
          }
        },
        "77524b7095b94379b2fc2bd457f38ef2": {
          "model_module": "@jupyter-widgets/base",
          "model_name": "LayoutModel",
          "state": {
            "_view_name": "LayoutView",
            "grid_template_rows": null,
            "right": null,
            "justify_content": null,
            "_view_module": "@jupyter-widgets/base",
            "overflow": null,
            "_model_module_version": "1.2.0",
            "_view_count": null,
            "flex_flow": null,
            "width": null,
            "min_width": null,
            "border": null,
            "align_items": null,
            "bottom": null,
            "_model_module": "@jupyter-widgets/base",
            "top": null,
            "grid_column": null,
            "overflow_y": null,
            "overflow_x": null,
            "grid_auto_flow": null,
            "grid_area": null,
            "grid_template_columns": null,
            "flex": null,
            "_model_name": "LayoutModel",
            "justify_items": null,
            "grid_row": null,
            "max_height": null,
            "align_content": null,
            "visibility": null,
            "align_self": null,
            "height": null,
            "min_height": null,
            "padding": null,
            "grid_auto_rows": null,
            "grid_gap": null,
            "max_width": null,
            "order": null,
            "_view_module_version": "1.2.0",
            "grid_template_areas": null,
            "object_position": null,
            "object_fit": null,
            "grid_auto_columns": null,
            "margin": null,
            "display": null,
            "left": null
          }
        },
        "c96dcf3ad2ea4b2c887d3967aed2630d": {
          "model_module": "@jupyter-widgets/controls",
          "model_name": "HBoxModel",
          "state": {
            "_view_name": "HBoxView",
            "_dom_classes": [],
            "_model_name": "HBoxModel",
            "_view_module": "@jupyter-widgets/controls",
            "_model_module_version": "1.5.0",
            "_view_count": null,
            "_view_module_version": "1.5.0",
            "box_style": "",
            "layout": "IPY_MODEL_a2716e1912e44e6ab1b6e3d29cafa7ec",
            "_model_module": "@jupyter-widgets/controls",
            "children": [
              "IPY_MODEL_4da21775aef94c4a8626e4a3bb17ab05",
              "IPY_MODEL_729ccdd381a2432e827558ac67b44cad"
            ]
          }
        },
        "a2716e1912e44e6ab1b6e3d29cafa7ec": {
          "model_module": "@jupyter-widgets/base",
          "model_name": "LayoutModel",
          "state": {
            "_view_name": "LayoutView",
            "grid_template_rows": null,
            "right": null,
            "justify_content": null,
            "_view_module": "@jupyter-widgets/base",
            "overflow": null,
            "_model_module_version": "1.2.0",
            "_view_count": null,
            "flex_flow": null,
            "width": null,
            "min_width": null,
            "border": null,
            "align_items": null,
            "bottom": null,
            "_model_module": "@jupyter-widgets/base",
            "top": null,
            "grid_column": null,
            "overflow_y": null,
            "overflow_x": null,
            "grid_auto_flow": null,
            "grid_area": null,
            "grid_template_columns": null,
            "flex": null,
            "_model_name": "LayoutModel",
            "justify_items": null,
            "grid_row": null,
            "max_height": null,
            "align_content": null,
            "visibility": null,
            "align_self": null,
            "height": null,
            "min_height": null,
            "padding": null,
            "grid_auto_rows": null,
            "grid_gap": null,
            "max_width": null,
            "order": null,
            "_view_module_version": "1.2.0",
            "grid_template_areas": null,
            "object_position": null,
            "object_fit": null,
            "grid_auto_columns": null,
            "margin": null,
            "display": null,
            "left": null
          }
        },
        "4da21775aef94c4a8626e4a3bb17ab05": {
          "model_module": "@jupyter-widgets/controls",
          "model_name": "FloatProgressModel",
          "state": {
            "_view_name": "ProgressView",
            "style": "IPY_MODEL_0cf555d4606d4a05a9d02bbc70e6b6ba",
            "_dom_classes": [],
            "description": "",
            "_model_name": "FloatProgressModel",
            "bar_style": "success",
            "max": 1,
            "_view_module": "@jupyter-widgets/controls",
            "_model_module_version": "1.5.0",
            "value": 1,
            "_view_count": null,
            "_view_module_version": "1.5.0",
            "orientation": "horizontal",
            "min": 0,
            "description_tooltip": null,
            "_model_module": "@jupyter-widgets/controls",
            "layout": "IPY_MODEL_ee933bd8ef62430d889fea8dfd4518aa"
          }
        },
        "729ccdd381a2432e827558ac67b44cad": {
          "model_module": "@jupyter-widgets/controls",
          "model_name": "HTMLModel",
          "state": {
            "_view_name": "HTMLView",
            "style": "IPY_MODEL_c8403259e33b48d197f308a44cd4c871",
            "_dom_classes": [],
            "description": "",
            "_model_name": "HTMLModel",
            "placeholder": "​",
            "_view_module": "@jupyter-widgets/controls",
            "_model_module_version": "1.5.0",
            "value": " 8192/? [00:00&lt;00:00, 23860.42it/s]",
            "_view_count": null,
            "_view_module_version": "1.5.0",
            "description_tooltip": null,
            "_model_module": "@jupyter-widgets/controls",
            "layout": "IPY_MODEL_14e42c10c31043e1a2e9575e97d4dc36"
          }
        },
        "0cf555d4606d4a05a9d02bbc70e6b6ba": {
          "model_module": "@jupyter-widgets/controls",
          "model_name": "ProgressStyleModel",
          "state": {
            "_view_name": "StyleView",
            "_model_name": "ProgressStyleModel",
            "description_width": "initial",
            "_view_module": "@jupyter-widgets/base",
            "_model_module_version": "1.5.0",
            "_view_count": null,
            "_view_module_version": "1.2.0",
            "bar_color": null,
            "_model_module": "@jupyter-widgets/controls"
          }
        },
        "ee933bd8ef62430d889fea8dfd4518aa": {
          "model_module": "@jupyter-widgets/base",
          "model_name": "LayoutModel",
          "state": {
            "_view_name": "LayoutView",
            "grid_template_rows": null,
            "right": null,
            "justify_content": null,
            "_view_module": "@jupyter-widgets/base",
            "overflow": null,
            "_model_module_version": "1.2.0",
            "_view_count": null,
            "flex_flow": null,
            "width": null,
            "min_width": null,
            "border": null,
            "align_items": null,
            "bottom": null,
            "_model_module": "@jupyter-widgets/base",
            "top": null,
            "grid_column": null,
            "overflow_y": null,
            "overflow_x": null,
            "grid_auto_flow": null,
            "grid_area": null,
            "grid_template_columns": null,
            "flex": null,
            "_model_name": "LayoutModel",
            "justify_items": null,
            "grid_row": null,
            "max_height": null,
            "align_content": null,
            "visibility": null,
            "align_self": null,
            "height": null,
            "min_height": null,
            "padding": null,
            "grid_auto_rows": null,
            "grid_gap": null,
            "max_width": null,
            "order": null,
            "_view_module_version": "1.2.0",
            "grid_template_areas": null,
            "object_position": null,
            "object_fit": null,
            "grid_auto_columns": null,
            "margin": null,
            "display": null,
            "left": null
          }
        },
        "c8403259e33b48d197f308a44cd4c871": {
          "model_module": "@jupyter-widgets/controls",
          "model_name": "DescriptionStyleModel",
          "state": {
            "_view_name": "StyleView",
            "_model_name": "DescriptionStyleModel",
            "description_width": "",
            "_view_module": "@jupyter-widgets/base",
            "_model_module_version": "1.5.0",
            "_view_count": null,
            "_view_module_version": "1.2.0",
            "_model_module": "@jupyter-widgets/controls"
          }
        },
        "14e42c10c31043e1a2e9575e97d4dc36": {
          "model_module": "@jupyter-widgets/base",
          "model_name": "LayoutModel",
          "state": {
            "_view_name": "LayoutView",
            "grid_template_rows": null,
            "right": null,
            "justify_content": null,
            "_view_module": "@jupyter-widgets/base",
            "overflow": null,
            "_model_module_version": "1.2.0",
            "_view_count": null,
            "flex_flow": null,
            "width": null,
            "min_width": null,
            "border": null,
            "align_items": null,
            "bottom": null,
            "_model_module": "@jupyter-widgets/base",
            "top": null,
            "grid_column": null,
            "overflow_y": null,
            "overflow_x": null,
            "grid_auto_flow": null,
            "grid_area": null,
            "grid_template_columns": null,
            "flex": null,
            "_model_name": "LayoutModel",
            "justify_items": null,
            "grid_row": null,
            "max_height": null,
            "align_content": null,
            "visibility": null,
            "align_self": null,
            "height": null,
            "min_height": null,
            "padding": null,
            "grid_auto_rows": null,
            "grid_gap": null,
            "max_width": null,
            "order": null,
            "_view_module_version": "1.2.0",
            "grid_template_areas": null,
            "object_position": null,
            "object_fit": null,
            "grid_auto_columns": null,
            "margin": null,
            "display": null,
            "left": null
          }
        }
      }
    }
  },
  "cells": [
    {
      "cell_type": "code",
      "metadata": {
        "id": "a9OxrNGniFAv",
        "colab_type": "code",
        "colab": {}
      },
      "source": [
        "import os\n",
        "import numpy as np\n",
        "import matplotlib.pyplot as plt\n",
        "\n",
        "import torch\n",
        "import torchvision\n",
        "import torch.nn as nn\n",
        "from torchvision import transforms\n",
        "from torchvision.utils import save_image"
      ],
      "execution_count": null,
      "outputs": []
    },
    {
      "cell_type": "code",
      "metadata": {
        "id": "vhW8GTfqi-Hn",
        "colab_type": "code",
        "colab": {}
      },
      "source": [
        "batch_size = 100\n",
        "\n",
        "device = torch.device(\"cuda\" if torch.cuda.is_available() else 'cpu')"
      ],
      "execution_count": null,
      "outputs": []
    },
    {
      "cell_type": "code",
      "metadata": {
        "id": "IxwsTCh4jM7G",
        "colab_type": "code",
        "colab": {}
      },
      "source": [
        "transform = transforms.Compose([\n",
        "                                transforms.ToTensor(),\n",
        "                                transforms.Normalize((0.5), (0.5))\n",
        "])"
      ],
      "execution_count": null,
      "outputs": []
    },
    {
      "cell_type": "code",
      "metadata": {
        "id": "k5FuPWucjiyT",
        "colab_type": "code",
        "colab": {
          "base_uri": "https://localhost:8080/",
          "height": 360,
          "referenced_widgets": [
            "875b66f730c347aa92f61ebb8b8c108a",
            "fa433790737848f6b3992365956a3f3f",
            "268f97dcec37408f8bc781618c1843c1",
            "618c9c48cc5e47fa8c7e9361fc214e42",
            "618634a18a774ee780c2bf596b0703ce",
            "f4a7b315247940dd8dc40800552be6cc",
            "a392f2c6691940b0bdda5a36b20fa04d",
            "818f26c2375e45f7b2b5b9e3bef0ebda",
            "daab6d3a96ef457ba53a3f65d4734df7",
            "2c1a7d1728e64c52938a818543b0fd54",
            "c5eeefe28dc043048b46c1034cb28076",
            "baf2eadd246643328b3f439a9a8efe0b",
            "ef253168b96b4d9ab437540ccd58144a",
            "50024fcfc1ea436c98702c96a5d8e7f8",
            "10ab65bf03db4131b071560a6da98c4a",
            "8d84d470801f4090994f73348ddbf400",
            "3bbff1ed95bb4be6939042ae3a214a5b",
            "31de2a04efd74e0faf1670f5084ded43",
            "ea34e743d99b4c4c9e77e25bd7ef6104",
            "4e1341e901bc4b1a9f4d19a8ec0e0e6b",
            "d8124dab9f1d400b9785b80baa534d03",
            "c9cdcdd8c44d41c397f13c6e39a6ad8c",
            "abbd3af7ee804577bd9ae0be82da7368",
            "77524b7095b94379b2fc2bd457f38ef2",
            "c96dcf3ad2ea4b2c887d3967aed2630d",
            "a2716e1912e44e6ab1b6e3d29cafa7ec",
            "4da21775aef94c4a8626e4a3bb17ab05",
            "729ccdd381a2432e827558ac67b44cad",
            "0cf555d4606d4a05a9d02bbc70e6b6ba",
            "ee933bd8ef62430d889fea8dfd4518aa",
            "c8403259e33b48d197f308a44cd4c871",
            "14e42c10c31043e1a2e9575e97d4dc36"
          ]
        },
        "outputId": "d7d6c55a-4d38-4aa1-a722-3095e853ec4d"
      },
      "source": [
        "mnist = torchvision.datasets.MNIST(root='datasets/',\n",
        "                                   train = True, \n",
        "                                   transform = transform,\n",
        "                                   download = True)"
      ],
      "execution_count": null,
      "outputs": [
        {
          "output_type": "stream",
          "text": [
            "Downloading http://yann.lecun.com/exdb/mnist/train-images-idx3-ubyte.gz to datasets/MNIST/raw/train-images-idx3-ubyte.gz\n"
          ],
          "name": "stdout"
        },
        {
          "output_type": "display_data",
          "data": {
            "application/vnd.jupyter.widget-view+json": {
              "model_id": "875b66f730c347aa92f61ebb8b8c108a",
              "version_minor": 0,
              "version_major": 2
            },
            "text/plain": [
              "HBox(children=(FloatProgress(value=1.0, bar_style='info', max=1.0), HTML(value='')))"
            ]
          },
          "metadata": {
            "tags": []
          }
        },
        {
          "output_type": "stream",
          "text": [
            "Extracting datasets/MNIST/raw/train-images-idx3-ubyte.gz to datasets/MNIST/raw\n",
            "Downloading http://yann.lecun.com/exdb/mnist/train-labels-idx1-ubyte.gz to datasets/MNIST/raw/train-labels-idx1-ubyte.gz\n"
          ],
          "name": "stdout"
        },
        {
          "output_type": "display_data",
          "data": {
            "application/vnd.jupyter.widget-view+json": {
              "model_id": "daab6d3a96ef457ba53a3f65d4734df7",
              "version_minor": 0,
              "version_major": 2
            },
            "text/plain": [
              "HBox(children=(FloatProgress(value=1.0, bar_style='info', max=1.0), HTML(value='')))"
            ]
          },
          "metadata": {
            "tags": []
          }
        },
        {
          "output_type": "stream",
          "text": [
            "Extracting datasets/MNIST/raw/train-labels-idx1-ubyte.gz to datasets/MNIST/raw\n",
            "Downloading http://yann.lecun.com/exdb/mnist/t10k-images-idx3-ubyte.gz to datasets/MNIST/raw/t10k-images-idx3-ubyte.gz\n"
          ],
          "name": "stdout"
        },
        {
          "output_type": "display_data",
          "data": {
            "application/vnd.jupyter.widget-view+json": {
              "model_id": "3bbff1ed95bb4be6939042ae3a214a5b",
              "version_minor": 0,
              "version_major": 2
            },
            "text/plain": [
              "HBox(children=(FloatProgress(value=1.0, bar_style='info', max=1.0), HTML(value='')))"
            ]
          },
          "metadata": {
            "tags": []
          }
        },
        {
          "output_type": "stream",
          "text": [
            "Extracting datasets/MNIST/raw/t10k-images-idx3-ubyte.gz to datasets/MNIST/raw\n",
            "Downloading http://yann.lecun.com/exdb/mnist/t10k-labels-idx1-ubyte.gz to datasets/MNIST/raw/t10k-labels-idx1-ubyte.gz\n"
          ],
          "name": "stdout"
        },
        {
          "output_type": "display_data",
          "data": {
            "application/vnd.jupyter.widget-view+json": {
              "model_id": "c96dcf3ad2ea4b2c887d3967aed2630d",
              "version_minor": 0,
              "version_major": 2
            },
            "text/plain": [
              "HBox(children=(FloatProgress(value=1.0, bar_style='info', max=1.0), HTML(value='')))"
            ]
          },
          "metadata": {
            "tags": []
          }
        },
        {
          "output_type": "stream",
          "text": [
            "Extracting datasets/MNIST/raw/t10k-labels-idx1-ubyte.gz to datasets/MNIST/raw\n",
            "Processing...\n",
            "Done!\n"
          ],
          "name": "stdout"
        },
        {
          "output_type": "stream",
          "text": [
            "/pytorch/torch/csrc/utils/tensor_numpy.cpp:141: UserWarning: The given NumPy array is not writeable, and PyTorch does not support non-writeable tensors. This means you can write to the underlying (supposedly non-writeable) NumPy array using the tensor. You may want to copy the array to protect its data or make it writeable before converting it to a tensor. This type of warning will be suppressed for the rest of this program.\n"
          ],
          "name": "stderr"
        }
      ]
    },
    {
      "cell_type": "code",
      "metadata": {
        "id": "vACTU3KJj6X7",
        "colab_type": "code",
        "colab": {}
      },
      "source": [
        "data_loader = torch.utils.data.DataLoader(dataset=mnist, \n",
        "                                          batch_size = batch_size, shuffle = True, num_workers = 2)"
      ],
      "execution_count": null,
      "outputs": []
    },
    {
      "cell_type": "code",
      "metadata": {
        "id": "stK5WI1Wj2ct",
        "colab_type": "code",
        "colab": {
          "base_uri": "https://localhost:8080/",
          "height": 52
        },
        "outputId": "35de94d9-fc3e-465a-8a6e-cbfa4e474a54"
      },
      "source": [
        "#images, labels = iter(data_loader).next()\n",
        "\n",
        "images, labels = iter(data_loader).next()"
      ],
      "execution_count": null,
      "outputs": [
        {
          "output_type": "stream",
          "text": [
            "\n",
            "\n"
          ],
          "name": "stdout"
        }
      ]
    },
    {
      "cell_type": "code",
      "metadata": {
        "id": "IEzCD4FNke2Q",
        "colab_type": "code",
        "colab": {
          "base_uri": "https://localhost:8080/",
          "height": 994
        },
        "outputId": "737a029b-0f56-4b6f-deb1-bf9bbcf69afa"
      },
      "source": [
        "images"
      ],
      "execution_count": null,
      "outputs": [
        {
          "output_type": "execute_result",
          "data": {
            "text/plain": [
              "tensor([[[[-1., -1., -1.,  ..., -1., -1., -1.],\n",
              "          [-1., -1., -1.,  ..., -1., -1., -1.],\n",
              "          [-1., -1., -1.,  ..., -1., -1., -1.],\n",
              "          ...,\n",
              "          [-1., -1., -1.,  ..., -1., -1., -1.],\n",
              "          [-1., -1., -1.,  ..., -1., -1., -1.],\n",
              "          [-1., -1., -1.,  ..., -1., -1., -1.]]],\n",
              "\n",
              "\n",
              "        [[[-1., -1., -1.,  ..., -1., -1., -1.],\n",
              "          [-1., -1., -1.,  ..., -1., -1., -1.],\n",
              "          [-1., -1., -1.,  ..., -1., -1., -1.],\n",
              "          ...,\n",
              "          [-1., -1., -1.,  ..., -1., -1., -1.],\n",
              "          [-1., -1., -1.,  ..., -1., -1., -1.],\n",
              "          [-1., -1., -1.,  ..., -1., -1., -1.]]],\n",
              "\n",
              "\n",
              "        [[[-1., -1., -1.,  ..., -1., -1., -1.],\n",
              "          [-1., -1., -1.,  ..., -1., -1., -1.],\n",
              "          [-1., -1., -1.,  ..., -1., -1., -1.],\n",
              "          ...,\n",
              "          [-1., -1., -1.,  ..., -1., -1., -1.],\n",
              "          [-1., -1., -1.,  ..., -1., -1., -1.],\n",
              "          [-1., -1., -1.,  ..., -1., -1., -1.]]],\n",
              "\n",
              "\n",
              "        ...,\n",
              "\n",
              "\n",
              "        [[[-1., -1., -1.,  ..., -1., -1., -1.],\n",
              "          [-1., -1., -1.,  ..., -1., -1., -1.],\n",
              "          [-1., -1., -1.,  ..., -1., -1., -1.],\n",
              "          ...,\n",
              "          [-1., -1., -1.,  ..., -1., -1., -1.],\n",
              "          [-1., -1., -1.,  ..., -1., -1., -1.],\n",
              "          [-1., -1., -1.,  ..., -1., -1., -1.]]],\n",
              "\n",
              "\n",
              "        [[[-1., -1., -1.,  ..., -1., -1., -1.],\n",
              "          [-1., -1., -1.,  ..., -1., -1., -1.],\n",
              "          [-1., -1., -1.,  ..., -1., -1., -1.],\n",
              "          ...,\n",
              "          [-1., -1., -1.,  ..., -1., -1., -1.],\n",
              "          [-1., -1., -1.,  ..., -1., -1., -1.],\n",
              "          [-1., -1., -1.,  ..., -1., -1., -1.]]],\n",
              "\n",
              "\n",
              "        [[[-1., -1., -1.,  ..., -1., -1., -1.],\n",
              "          [-1., -1., -1.,  ..., -1., -1., -1.],\n",
              "          [-1., -1., -1.,  ..., -1., -1., -1.],\n",
              "          ...,\n",
              "          [-1., -1., -1.,  ..., -1., -1., -1.],\n",
              "          [-1., -1., -1.,  ..., -1., -1., -1.],\n",
              "          [-1., -1., -1.,  ..., -1., -1., -1.]]]])"
            ]
          },
          "metadata": {
            "tags": []
          },
          "execution_count": 7
        }
      ]
    },
    {
      "cell_type": "code",
      "metadata": {
        "id": "WsH8KcjmoZvS",
        "colab_type": "code",
        "colab": {
          "base_uri": "https://localhost:8080/",
          "height": 105
        },
        "outputId": "11632158-4def-412d-c550-ec68c931414c"
      },
      "source": [
        "labels"
      ],
      "execution_count": null,
      "outputs": [
        {
          "output_type": "execute_result",
          "data": {
            "text/plain": [
              "tensor([2, 3, 1, 0, 6, 3, 7, 7, 8, 8, 6, 7, 9, 9, 3, 3, 0, 8, 0, 5, 9, 6, 7, 6,\n",
              "        6, 4, 5, 6, 0, 4, 8, 5, 7, 7, 9, 6, 9, 9, 7, 1, 2, 6, 9, 7, 1, 8, 2, 6,\n",
              "        1, 3, 4, 0, 7, 1, 7, 7, 3, 4, 8, 5, 7, 1, 1, 4, 0, 7, 0, 3, 7, 0, 5, 5,\n",
              "        3, 5, 7, 9, 5, 0, 0, 1, 5, 2, 5, 1, 5, 3, 1, 0, 8, 2, 3, 0, 8, 0, 7, 1,\n",
              "        8, 2, 2, 2])"
            ]
          },
          "metadata": {
            "tags": []
          },
          "execution_count": 8
        }
      ]
    },
    {
      "cell_type": "code",
      "metadata": {
        "id": "pkQwoCI7ocgd",
        "colab_type": "code",
        "colab": {}
      },
      "source": [
        "img = torchvision.utils.make_grid(images)"
      ],
      "execution_count": null,
      "outputs": []
    },
    {
      "cell_type": "code",
      "metadata": {
        "id": "A5q6p_nlon3k",
        "colab_type": "code",
        "colab": {}
      },
      "source": [
        "img = img.detach().numpy()\n",
        "img = img.clip(0, 1)"
      ],
      "execution_count": null,
      "outputs": []
    },
    {
      "cell_type": "code",
      "metadata": {
        "id": "fcRiZGNNoxFL",
        "colab_type": "code",
        "colab": {
          "base_uri": "https://localhost:8080/",
          "height": 592
        },
        "outputId": "98385be1-4a7d-4c9e-c6c3-48bff5a9b28c"
      },
      "source": [
        "plt.figure(figsize=(12, 10))\n",
        "plt.imshow(np.transpose(img, (1, 2, 0)))\n",
        "plt.axis('off')\n",
        "plt.show()"
      ],
      "execution_count": null,
      "outputs": [
        {
          "output_type": "display_data",
          "data": {
            "image/png": "[encoded data removed]",
            "text/plain": [
              "<Figure size 864x720 with 1 Axes>"
            ]
          },
          "metadata": {
            "tags": [],
            "needs_background": "light"
          }
        },
        {
          "output_type": "stream",
          "text": [
            "\n"
          ],
          "name": "stdout"
        }
      ]
    },
    {
      "cell_type": "code",
      "metadata": {
        "id": "SKGNYJKFpGwI",
        "colab_type": "code",
        "colab": {}
      },
      "source": [
        "latent_size = 64\n",
        "hidden_size = 256\n",
        "image_size = 784\n",
        "num_epochs = 100"
      ],
      "execution_count": null,
      "outputs": []
    },
    {
      "cell_type": "code",
      "metadata": {
        "id": "ffVvfk4spWF-",
        "colab_type": "code",
        "colab": {}
      },
      "source": [
        "D = nn.Sequential(\n",
        "    nn.Linear(image_size, hidden_size),\n",
        "    nn.LeakyReLU(0.2),\n",
        "    nn.Dropout(0.5),\n",
        "    nn.Linear(hidden_size, hidden_size),\n",
        "    nn.LeakyReLU(0.2),\n",
        "    nn.Dropout(0.5),\n",
        "    nn.Linear(hidden_size, 1),\n",
        "    nn.Sigmoid()\n",
        ")"
      ],
      "execution_count": null,
      "outputs": []
    },
    {
      "cell_type": "code",
      "metadata": {
        "id": "hzU6vE5SqIPn",
        "colab_type": "code",
        "colab": {}
      },
      "source": [
        "G = nn.Sequential(\n",
        "    nn.Linear(latent_size, hidden_size),\n",
        "    nn.ReLU(),\n",
        "    nn.Linear(hidden_size, hidden_size),\n",
        "    nn.ReLU(),\n",
        "    nn.Linear(hidden_size, image_size),\n",
        "    nn.Tanh()\n",
        ")"
      ],
      "execution_count": null,
      "outputs": []
    },
    {
      "cell_type": "code",
      "metadata": {
        "id": "FPVqA-YgrIUg",
        "colab_type": "code",
        "colab": {}
      },
      "source": [
        "D = D.to(device)\n",
        "G = G.to(device)"
      ],
      "execution_count": null,
      "outputs": []
    },
    {
      "cell_type": "code",
      "metadata": {
        "id": "F6iifRwQs3B1",
        "colab_type": "code",
        "colab": {}
      },
      "source": [
        "bce_loss = nn.BCELoss()\n",
        "\n",
        "d_optimizer = torch.optim.Adam(D.parameters(), lr=0.0002)\n",
        "g_optimizer = torch.optim.Adam(G.parameters(), lr=0.0002)"
      ],
      "execution_count": null,
      "outputs": []
    },
    {
      "cell_type": "code",
      "metadata": {
        "id": "Hlvd1iVZtRGX",
        "colab_type": "code",
        "colab": {}
      },
      "source": [
        "total_step = len(data_loader)"
      ],
      "execution_count": null,
      "outputs": []
    },
    {
      "cell_type": "code",
      "metadata": {
        "id": "4ceolrwhtZw-",
        "colab_type": "code",
        "colab": {
          "base_uri": "https://localhost:8080/",
          "height": 1000
        },
        "outputId": "7f51ba7f-c375-418e-d514-ec42b969e861"
      },
      "source": [
        "for epoch in range(num_epochs):\n",
        "  \n",
        "  for i, (images, _) in enumerate(data_loader):\n",
        "\n",
        "    images = images.reshape(batch_size, -1).to(device)\n",
        "\n",
        "    real_label = torch.ones(batch_size, 1).to(device)\n",
        "    fake_label = torch.zeros(batch_size, 1).to(device)\n",
        "\n",
        "\n",
        "    outputs = D(images)\n",
        "\n",
        "    d_loss_real = bce_loss(outputs, real_label)\n",
        "    real_score = outputs\n",
        "\n",
        "    z = torch.randn(batch_size, latent_size).to(device)\n",
        "    fake_images = G(z)\n",
        "\n",
        "    outputs = D(fake_images)\n",
        "\n",
        "    d_loss_fake = bce_loss(outputs, fake_label)\n",
        "    fake_score = outputs\n",
        "\n",
        "    d_loss = d_loss_real + d_loss_fake\n",
        "\n",
        "    d_optimizer.zero_grad()\n",
        "    g_optimizer.zero_grad()\n",
        "\n",
        "    d_loss.backward()\n",
        "    d_optimizer.step()\n",
        "\n",
        "    z = torch.randn(batch_size, latent_size).to(device)\n",
        "    fake_images = G(z)\n",
        "    outputs = D(fake_images)\n",
        "\n",
        "    g_loss = bce_loss(outputs, real_label)\n",
        "\n",
        "    d_optimizer.zero_grad()\n",
        "    g_optimizer.zero_grad()\n",
        "\n",
        "    g_loss.backward()\n",
        "    g_optimizer.step()\n",
        "\n",
        "    if (i+1) % 200 == 0:\n",
        "      print(\"Epoch [{} / {}], Step [{} / {}], d_loss: {:.4f}, g_loss: {:.4f}, D(x): {:.2f}, D(G(z)): {:.2f}\".format(epoch, num_epochs, i+1, total_step, d_loss.item(), g_loss.item(),\n",
        "      real_score.mean().item(), fake_score.mean().item()))\n",
        "  \n",
        "fake_images = fake_images.reshape(fake_images.size(0), 1, 28, 28)"
      ],
      "execution_count": null,
      "outputs": [
        {
          "output_type": "stream",
          "text": [
            "Epoch [0 / 100], Step [200 / 600], d_loss: 1.0717, g_loss: 2.1527, D(x): 0.67, D(G(z)): 0.36\n",
            "Epoch [0 / 100], Step [400 / 600], d_loss: 0.4976, g_loss: 3.2689, D(x): 0.79, D(G(z)): 0.16\n",
            "Epoch [0 / 100], Step [600 / 600], d_loss: 0.8160, g_loss: 1.7706, D(x): 0.75, D(G(z)): 0.30\n",
            "Epoch [1 / 100], Step [200 / 600], d_loss: 1.3258, g_loss: 1.2153, D(x): 0.61, D(G(z)): 0.43\n",
            "Epoch [1 / 100], Step [400 / 600], d_loss: 1.4718, g_loss: 0.7435, D(x): 0.61, D(G(z)): 0.54\n",
            "Epoch [1 / 100], Step [600 / 600], d_loss: 0.6020, g_loss: 2.1894, D(x): 0.76, D(G(z)): 0.19\n",
            "Epoch [2 / 100], Step [200 / 600], d_loss: 0.7257, g_loss: 2.2363, D(x): 0.72, D(G(z)): 0.18\n",
            "Epoch [2 / 100], Step [400 / 600], d_loss: 0.2825, g_loss: 3.3719, D(x): 0.91, D(G(z)): 0.11\n",
            "Epoch [2 / 100], Step [600 / 600], d_loss: 0.8436, g_loss: 1.9763, D(x): 0.76, D(G(z)): 0.19\n",
            "Epoch [3 / 100], Step [200 / 600], d_loss: 0.5627, g_loss: 2.0933, D(x): 0.86, D(G(z)): 0.21\n",
            "Epoch [3 / 100], Step [400 / 600], d_loss: 0.6477, g_loss: 2.4087, D(x): 0.82, D(G(z)): 0.11\n",
            "Epoch [3 / 100], Step [600 / 600], d_loss: 0.6186, g_loss: 2.2241, D(x): 0.83, D(G(z)): 0.21\n",
            "Epoch [4 / 100], Step [200 / 600], d_loss: 0.4018, g_loss: 3.0001, D(x): 0.89, D(G(z)): 0.16\n",
            "Epoch [4 / 100], Step [400 / 600], d_loss: 0.3998, g_loss: 2.7479, D(x): 0.87, D(G(z)): 0.13\n",
            "Epoch [4 / 100], Step [600 / 600], d_loss: 0.4636, g_loss: 2.4459, D(x): 0.82, D(G(z)): 0.13\n",
            "Epoch [5 / 100], Step [200 / 600], d_loss: 0.4013, g_loss: 2.4502, D(x): 0.88, D(G(z)): 0.17\n",
            "Epoch [5 / 100], Step [400 / 600], d_loss: 0.3092, g_loss: 3.0544, D(x): 0.91, D(G(z)): 0.15\n",
            "Epoch [5 / 100], Step [600 / 600], d_loss: 0.6485, g_loss: 1.4788, D(x): 0.80, D(G(z)): 0.21\n",
            "Epoch [6 / 100], Step [200 / 600], d_loss: 0.5934, g_loss: 2.2445, D(x): 0.81, D(G(z)): 0.17\n",
            "Epoch [6 / 100], Step [400 / 600], d_loss: 0.6633, g_loss: 3.1222, D(x): 0.77, D(G(z)): 0.16\n",
            "Epoch [6 / 100], Step [600 / 600], d_loss: 0.9426, g_loss: 1.4928, D(x): 0.70, D(G(z)): 0.33\n",
            "Epoch [7 / 100], Step [200 / 600], d_loss: 0.6363, g_loss: 2.5394, D(x): 0.76, D(G(z)): 0.19\n",
            "Epoch [7 / 100], Step [400 / 600], d_loss: 0.9120, g_loss: 1.6631, D(x): 0.74, D(G(z)): 0.30\n",
            "Epoch [7 / 100], Step [600 / 600], d_loss: 0.9273, g_loss: 1.7140, D(x): 0.71, D(G(z)): 0.28\n",
            "Epoch [8 / 100], Step [200 / 600], d_loss: 0.6783, g_loss: 2.3154, D(x): 0.73, D(G(z)): 0.15\n",
            "Epoch [8 / 100], Step [400 / 600], d_loss: 1.0101, g_loss: 1.6817, D(x): 0.71, D(G(z)): 0.31\n",
            "Epoch [8 / 100], Step [600 / 600], d_loss: 0.9921, g_loss: 1.2253, D(x): 0.73, D(G(z)): 0.36\n",
            "Epoch [9 / 100], Step [200 / 600], d_loss: 0.5302, g_loss: 2.5667, D(x): 0.84, D(G(z)): 0.18\n",
            "Epoch [9 / 100], Step [400 / 600], d_loss: 0.9518, g_loss: 1.5782, D(x): 0.75, D(G(z)): 0.35\n",
            "Epoch [9 / 100], Step [600 / 600], d_loss: 0.7806, g_loss: 2.0083, D(x): 0.73, D(G(z)): 0.21\n",
            "Epoch [10 / 100], Step [200 / 600], d_loss: 0.6770, g_loss: 1.7985, D(x): 0.79, D(G(z)): 0.26\n",
            "Epoch [10 / 100], Step [400 / 600], d_loss: 0.6138, g_loss: 2.2446, D(x): 0.78, D(G(z)): 0.20\n",
            "Epoch [10 / 100], Step [600 / 600], d_loss: 0.6600, g_loss: 2.0776, D(x): 0.76, D(G(z)): 0.18\n",
            "Epoch [11 / 100], Step [200 / 600], d_loss: 0.7684, g_loss: 1.7139, D(x): 0.80, D(G(z)): 0.30\n",
            "Epoch [11 / 100], Step [400 / 600], d_loss: 0.5864, g_loss: 2.2919, D(x): 0.81, D(G(z)): 0.21\n",
            "Epoch [11 / 100], Step [600 / 600], d_loss: 0.6028, g_loss: 2.3126, D(x): 0.81, D(G(z)): 0.20\n",
            "Epoch [12 / 100], Step [200 / 600], d_loss: 0.5752, g_loss: 2.1819, D(x): 0.80, D(G(z)): 0.19\n",
            "Epoch [12 / 100], Step [400 / 600], d_loss: 0.8685, g_loss: 1.5826, D(x): 0.77, D(G(z)): 0.32\n",
            "Epoch [12 / 100], Step [600 / 600], d_loss: 0.8008, g_loss: 1.7960, D(x): 0.74, D(G(z)): 0.25\n",
            "Epoch [13 / 100], Step [200 / 600], d_loss: 0.8919, g_loss: 1.9452, D(x): 0.72, D(G(z)): 0.27\n",
            "Epoch [13 / 100], Step [400 / 600], d_loss: 0.7208, g_loss: 2.1059, D(x): 0.77, D(G(z)): 0.24\n",
            "Epoch [13 / 100], Step [600 / 600], d_loss: 0.6982, g_loss: 1.8076, D(x): 0.77, D(G(z)): 0.24\n",
            "Epoch [14 / 100], Step [200 / 600], d_loss: 0.8926, g_loss: 1.9384, D(x): 0.71, D(G(z)): 0.23\n",
            "Epoch [14 / 100], Step [400 / 600], d_loss: 0.7079, g_loss: 2.4787, D(x): 0.73, D(G(z)): 0.15\n",
            "Epoch [14 / 100], Step [600 / 600], d_loss: 0.7470, g_loss: 1.7611, D(x): 0.76, D(G(z)): 0.24\n",
            "Epoch [15 / 100], Step [200 / 600], d_loss: 0.8863, g_loss: 1.9352, D(x): 0.74, D(G(z)): 0.24\n",
            "Epoch [15 / 100], Step [400 / 600], d_loss: 0.8350, g_loss: 1.3892, D(x): 0.77, D(G(z)): 0.32\n",
            "Epoch [15 / 100], Step [600 / 600], d_loss: 0.9228, g_loss: 1.7526, D(x): 0.67, D(G(z)): 0.24\n",
            "Epoch [16 / 100], Step [200 / 600], d_loss: 0.8112, g_loss: 2.2465, D(x): 0.71, D(G(z)): 0.25\n",
            "Epoch [16 / 100], Step [400 / 600], d_loss: 1.1619, g_loss: 1.1492, D(x): 0.72, D(G(z)): 0.41\n",
            "Epoch [16 / 100], Step [600 / 600], d_loss: 0.9333, g_loss: 1.6402, D(x): 0.71, D(G(z)): 0.30\n",
            "Epoch [17 / 100], Step [200 / 600], d_loss: 0.8898, g_loss: 1.7550, D(x): 0.76, D(G(z)): 0.30\n",
            "Epoch [17 / 100], Step [400 / 600], d_loss: 0.8595, g_loss: 1.7636, D(x): 0.71, D(G(z)): 0.25\n",
            "Epoch [17 / 100], Step [600 / 600], d_loss: 0.7069, g_loss: 1.9688, D(x): 0.79, D(G(z)): 0.27\n",
            "Epoch [18 / 100], Step [200 / 600], d_loss: 0.6942, g_loss: 2.1215, D(x): 0.80, D(G(z)): 0.24\n",
            "Epoch [18 / 100], Step [400 / 600], d_loss: 0.8903, g_loss: 1.7238, D(x): 0.71, D(G(z)): 0.26\n",
            "Epoch [18 / 100], Step [600 / 600], d_loss: 0.7484, g_loss: 1.8705, D(x): 0.78, D(G(z)): 0.25\n",
            "Epoch [19 / 100], Step [200 / 600], d_loss: 0.8933, g_loss: 1.7122, D(x): 0.75, D(G(z)): 0.32\n",
            "Epoch [19 / 100], Step [400 / 600], d_loss: 0.7720, g_loss: 1.6059, D(x): 0.71, D(G(z)): 0.24\n",
            "Epoch [19 / 100], Step [600 / 600], d_loss: 0.9175, g_loss: 1.5386, D(x): 0.68, D(G(z)): 0.29\n",
            "Epoch [20 / 100], Step [200 / 600], d_loss: 0.9048, g_loss: 1.8095, D(x): 0.68, D(G(z)): 0.23\n",
            "Epoch [20 / 100], Step [400 / 600], d_loss: 0.9568, g_loss: 1.2079, D(x): 0.79, D(G(z)): 0.39\n",
            "Epoch [20 / 100], Step [600 / 600], d_loss: 0.9290, g_loss: 2.1502, D(x): 0.70, D(G(z)): 0.27\n",
            "Epoch [21 / 100], Step [200 / 600], d_loss: 0.6455, g_loss: 1.8615, D(x): 0.75, D(G(z)): 0.19\n",
            "Epoch [21 / 100], Step [400 / 600], d_loss: 1.1519, g_loss: 1.3748, D(x): 0.70, D(G(z)): 0.39\n",
            "Epoch [21 / 100], Step [600 / 600], d_loss: 0.7469, g_loss: 1.9553, D(x): 0.72, D(G(z)): 0.23\n",
            "Epoch [22 / 100], Step [200 / 600], d_loss: 0.9443, g_loss: 1.4231, D(x): 0.72, D(G(z)): 0.33\n",
            "Epoch [22 / 100], Step [400 / 600], d_loss: 0.8520, g_loss: 1.4687, D(x): 0.71, D(G(z)): 0.30\n",
            "Epoch [22 / 100], Step [600 / 600], d_loss: 0.7596, g_loss: 1.5545, D(x): 0.77, D(G(z)): 0.28\n",
            "Epoch [23 / 100], Step [200 / 600], d_loss: 0.8226, g_loss: 1.9646, D(x): 0.70, D(G(z)): 0.22\n",
            "Epoch [23 / 100], Step [400 / 600], d_loss: 0.9584, g_loss: 1.7378, D(x): 0.70, D(G(z)): 0.29\n",
            "Epoch [23 / 100], Step [600 / 600], d_loss: 1.0093, g_loss: 1.1536, D(x): 0.68, D(G(z)): 0.36\n",
            "Epoch [24 / 100], Step [200 / 600], d_loss: 1.1524, g_loss: 1.1387, D(x): 0.71, D(G(z)): 0.43\n",
            "Epoch [24 / 100], Step [400 / 600], d_loss: 0.7085, g_loss: 1.7841, D(x): 0.77, D(G(z)): 0.27\n",
            "Epoch [24 / 100], Step [600 / 600], d_loss: 0.7899, g_loss: 1.8405, D(x): 0.74, D(G(z)): 0.25\n",
            "Epoch [25 / 100], Step [200 / 600], d_loss: 0.8895, g_loss: 1.5803, D(x): 0.70, D(G(z)): 0.29\n",
            "Epoch [25 / 100], Step [400 / 600], d_loss: 0.9751, g_loss: 1.6001, D(x): 0.64, D(G(z)): 0.26\n",
            "Epoch [25 / 100], Step [600 / 600], d_loss: 1.0092, g_loss: 1.6785, D(x): 0.66, D(G(z)): 0.27\n",
            "Epoch [26 / 100], Step [200 / 600], d_loss: 0.8854, g_loss: 1.6345, D(x): 0.68, D(G(z)): 0.30\n",
            "Epoch [26 / 100], Step [400 / 600], d_loss: 0.9764, g_loss: 1.2845, D(x): 0.78, D(G(z)): 0.37\n",
            "Epoch [26 / 100], Step [600 / 600], d_loss: 0.8729, g_loss: 1.5144, D(x): 0.72, D(G(z)): 0.30\n",
            "Epoch [27 / 100], Step [200 / 600], d_loss: 0.8620, g_loss: 1.4848, D(x): 0.76, D(G(z)): 0.34\n",
            "Epoch [27 / 100], Step [400 / 600], d_loss: 1.1558, g_loss: 1.2183, D(x): 0.68, D(G(z)): 0.39\n",
            "Epoch [27 / 100], Step [600 / 600], d_loss: 0.8601, g_loss: 1.7911, D(x): 0.71, D(G(z)): 0.29\n",
            "Epoch [28 / 100], Step [200 / 600], d_loss: 0.9513, g_loss: 1.4350, D(x): 0.69, D(G(z)): 0.31\n",
            "Epoch [28 / 100], Step [400 / 600], d_loss: 0.8421, g_loss: 1.3318, D(x): 0.74, D(G(z)): 0.32\n",
            "Epoch [28 / 100], Step [600 / 600], d_loss: 0.8968, g_loss: 1.6581, D(x): 0.74, D(G(z)): 0.32\n",
            "Epoch [29 / 100], Step [200 / 600], d_loss: 0.8771, g_loss: 1.4100, D(x): 0.69, D(G(z)): 0.29\n",
            "Epoch [29 / 100], Step [400 / 600], d_loss: 0.9716, g_loss: 1.1779, D(x): 0.71, D(G(z)): 0.39\n",
            "Epoch [29 / 100], Step [600 / 600], d_loss: 0.9479, g_loss: 1.6571, D(x): 0.75, D(G(z)): 0.35\n",
            "Epoch [30 / 100], Step [200 / 600], d_loss: 0.8858, g_loss: 1.1941, D(x): 0.68, D(G(z)): 0.31\n",
            "Epoch [30 / 100], Step [400 / 600], d_loss: 1.0873, g_loss: 1.3333, D(x): 0.65, D(G(z)): 0.35\n",
            "Epoch [30 / 100], Step [600 / 600], d_loss: 0.9469, g_loss: 1.6234, D(x): 0.66, D(G(z)): 0.28\n",
            "Epoch [31 / 100], Step [200 / 600], d_loss: 0.9082, g_loss: 1.5605, D(x): 0.67, D(G(z)): 0.26\n",
            "Epoch [31 / 100], Step [400 / 600], d_loss: 1.0208, g_loss: 1.5224, D(x): 0.66, D(G(z)): 0.33\n",
            "Epoch [31 / 100], Step [600 / 600], d_loss: 0.9150, g_loss: 1.7463, D(x): 0.68, D(G(z)): 0.26\n",
            "Epoch [32 / 100], Step [200 / 600], d_loss: 1.0254, g_loss: 1.2214, D(x): 0.65, D(G(z)): 0.33\n",
            "Epoch [32 / 100], Step [400 / 600], d_loss: 1.2564, g_loss: 1.0805, D(x): 0.66, D(G(z)): 0.43\n",
            "Epoch [32 / 100], Step [600 / 600], d_loss: 1.2771, g_loss: 1.2339, D(x): 0.58, D(G(z)): 0.35\n",
            "Epoch [33 / 100], Step [200 / 600], d_loss: 1.0573, g_loss: 1.3541, D(x): 0.64, D(G(z)): 0.32\n",
            "Epoch [33 / 100], Step [400 / 600], d_loss: 0.8452, g_loss: 1.7675, D(x): 0.69, D(G(z)): 0.26\n",
            "Epoch [33 / 100], Step [600 / 600], d_loss: 1.0228, g_loss: 1.5174, D(x): 0.68, D(G(z)): 0.37\n",
            "Epoch [34 / 100], Step [200 / 600], d_loss: 0.9156, g_loss: 1.3714, D(x): 0.65, D(G(z)): 0.29\n",
            "Epoch [34 / 100], Step [400 / 600], d_loss: 1.0438, g_loss: 1.2977, D(x): 0.66, D(G(z)): 0.31\n",
            "Epoch [34 / 100], Step [600 / 600], d_loss: 1.0365, g_loss: 1.3723, D(x): 0.63, D(G(z)): 0.34\n",
            "Epoch [35 / 100], Step [200 / 600], d_loss: 0.8871, g_loss: 1.5864, D(x): 0.70, D(G(z)): 0.30\n",
            "Epoch [35 / 100], Step [400 / 600], d_loss: 1.0510, g_loss: 1.2806, D(x): 0.63, D(G(z)): 0.34\n",
            "Epoch [35 / 100], Step [600 / 600], d_loss: 0.9088, g_loss: 1.5330, D(x): 0.68, D(G(z)): 0.30\n",
            "Epoch [36 / 100], Step [200 / 600], d_loss: 1.0448, g_loss: 1.1257, D(x): 0.67, D(G(z)): 0.38\n",
            "Epoch [36 / 100], Step [400 / 600], d_loss: 0.8624, g_loss: 1.4889, D(x): 0.69, D(G(z)): 0.29\n",
            "Epoch [36 / 100], Step [600 / 600], d_loss: 0.9786, g_loss: 1.2887, D(x): 0.68, D(G(z)): 0.31\n",
            "Epoch [37 / 100], Step [200 / 600], d_loss: 1.0740, g_loss: 1.3630, D(x): 0.61, D(G(z)): 0.29\n",
            "Epoch [37 / 100], Step [400 / 600], d_loss: 1.0496, g_loss: 1.3575, D(x): 0.67, D(G(z)): 0.35\n",
            "Epoch [37 / 100], Step [600 / 600], d_loss: 1.0818, g_loss: 1.1083, D(x): 0.67, D(G(z)): 0.38\n",
            "Epoch [38 / 100], Step [200 / 600], d_loss: 1.0575, g_loss: 1.3845, D(x): 0.62, D(G(z)): 0.31\n",
            "Epoch [38 / 100], Step [400 / 600], d_loss: 1.0838, g_loss: 1.2437, D(x): 0.66, D(G(z)): 0.37\n",
            "Epoch [38 / 100], Step [600 / 600], d_loss: 1.1160, g_loss: 1.1257, D(x): 0.64, D(G(z)): 0.38\n",
            "Epoch [39 / 100], Step [200 / 600], d_loss: 0.8805, g_loss: 1.6554, D(x): 0.65, D(G(z)): 0.27\n",
            "Epoch [39 / 100], Step [400 / 600], d_loss: 1.1190, g_loss: 0.9634, D(x): 0.67, D(G(z)): 0.42\n",
            "Epoch [39 / 100], Step [600 / 600], d_loss: 0.9486, g_loss: 1.4115, D(x): 0.69, D(G(z)): 0.36\n",
            "Epoch [40 / 100], Step [200 / 600], d_loss: 1.1224, g_loss: 1.2714, D(x): 0.59, D(G(z)): 0.34\n",
            "Epoch [40 / 100], Step [400 / 600], d_loss: 1.1620, g_loss: 1.1494, D(x): 0.61, D(G(z)): 0.38\n",
            "Epoch [40 / 100], Step [600 / 600], d_loss: 1.0577, g_loss: 1.4205, D(x): 0.57, D(G(z)): 0.32\n",
            "Epoch [41 / 100], Step [200 / 600], d_loss: 1.1155, g_loss: 1.0816, D(x): 0.68, D(G(z)): 0.38\n",
            "Epoch [41 / 100], Step [400 / 600], d_loss: 0.9933, g_loss: 1.1780, D(x): 0.68, D(G(z)): 0.37\n",
            "Epoch [41 / 100], Step [600 / 600], d_loss: 1.1327, g_loss: 1.1580, D(x): 0.63, D(G(z)): 0.41\n",
            "Epoch [42 / 100], Step [200 / 600], d_loss: 1.0724, g_loss: 1.2771, D(x): 0.60, D(G(z)): 0.31\n",
            "Epoch [42 / 100], Step [400 / 600], d_loss: 1.2159, g_loss: 1.3004, D(x): 0.66, D(G(z)): 0.41\n",
            "Epoch [42 / 100], Step [600 / 600], d_loss: 1.0364, g_loss: 1.3201, D(x): 0.64, D(G(z)): 0.34\n",
            "Epoch [43 / 100], Step [200 / 600], d_loss: 1.2330, g_loss: 1.2566, D(x): 0.65, D(G(z)): 0.41\n",
            "Epoch [43 / 100], Step [400 / 600], d_loss: 0.9553, g_loss: 1.4331, D(x): 0.65, D(G(z)): 0.31\n",
            "Epoch [43 / 100], Step [600 / 600], d_loss: 1.0619, g_loss: 1.3576, D(x): 0.68, D(G(z)): 0.37\n",
            "Epoch [44 / 100], Step [200 / 600], d_loss: 1.1895, g_loss: 0.9463, D(x): 0.63, D(G(z)): 0.41\n",
            "Epoch [44 / 100], Step [400 / 600], d_loss: 0.9620, g_loss: 1.1206, D(x): 0.67, D(G(z)): 0.35\n",
            "Epoch [44 / 100], Step [600 / 600], d_loss: 1.1425, g_loss: 1.1445, D(x): 0.64, D(G(z)): 0.41\n",
            "Epoch [45 / 100], Step [200 / 600], d_loss: 1.1669, g_loss: 1.1445, D(x): 0.62, D(G(z)): 0.40\n",
            "Epoch [45 / 100], Step [400 / 600], d_loss: 1.0408, g_loss: 1.5015, D(x): 0.61, D(G(z)): 0.31\n",
            "Epoch [45 / 100], Step [600 / 600], d_loss: 1.2385, g_loss: 1.2154, D(x): 0.61, D(G(z)): 0.36\n",
            "Epoch [46 / 100], Step [200 / 600], d_loss: 0.9957, g_loss: 1.3131, D(x): 0.65, D(G(z)): 0.35\n",
            "Epoch [46 / 100], Step [400 / 600], d_loss: 1.1765, g_loss: 1.2426, D(x): 0.62, D(G(z)): 0.40\n",
            "Epoch [46 / 100], Step [600 / 600], d_loss: 1.1002, g_loss: 1.2770, D(x): 0.64, D(G(z)): 0.38\n",
            "Epoch [47 / 100], Step [200 / 600], d_loss: 1.0714, g_loss: 1.3872, D(x): 0.66, D(G(z)): 0.36\n",
            "Epoch [47 / 100], Step [400 / 600], d_loss: 1.0229, g_loss: 1.2009, D(x): 0.67, D(G(z)): 0.39\n",
            "Epoch [47 / 100], Step [600 / 600], d_loss: 1.1674, g_loss: 1.3211, D(x): 0.62, D(G(z)): 0.38\n",
            "Epoch [48 / 100], Step [200 / 600], d_loss: 1.0891, g_loss: 1.3028, D(x): 0.63, D(G(z)): 0.36\n",
            "Epoch [48 / 100], Step [400 / 600], d_loss: 1.1866, g_loss: 1.1351, D(x): 0.61, D(G(z)): 0.39\n",
            "Epoch [48 / 100], Step [600 / 600], d_loss: 1.0821, g_loss: 1.0364, D(x): 0.59, D(G(z)): 0.32\n",
            "Epoch [49 / 100], Step [200 / 600], d_loss: 0.9857, g_loss: 1.2031, D(x): 0.65, D(G(z)): 0.34\n",
            "Epoch [49 / 100], Step [400 / 600], d_loss: 1.1312, g_loss: 1.5572, D(x): 0.59, D(G(z)): 0.34\n",
            "Epoch [49 / 100], Step [600 / 600], d_loss: 1.0646, g_loss: 1.2233, D(x): 0.64, D(G(z)): 0.38\n",
            "Epoch [50 / 100], Step [200 / 600], d_loss: 1.0070, g_loss: 1.2830, D(x): 0.62, D(G(z)): 0.33\n",
            "Epoch [50 / 100], Step [400 / 600], d_loss: 1.0184, g_loss: 1.4194, D(x): 0.64, D(G(z)): 0.33\n",
            "Epoch [50 / 100], Step [600 / 600], d_loss: 1.1227, g_loss: 1.2727, D(x): 0.63, D(G(z)): 0.41\n",
            "Epoch [51 / 100], Step [200 / 600], d_loss: 1.1095, g_loss: 1.3031, D(x): 0.60, D(G(z)): 0.36\n",
            "Epoch [51 / 100], Step [400 / 600], d_loss: 1.1292, g_loss: 1.1338, D(x): 0.63, D(G(z)): 0.38\n",
            "Epoch [51 / 100], Step [600 / 600], d_loss: 1.0524, g_loss: 1.2001, D(x): 0.66, D(G(z)): 0.36\n",
            "Epoch [52 / 100], Step [200 / 600], d_loss: 1.0897, g_loss: 0.9363, D(x): 0.67, D(G(z)): 0.41\n",
            "Epoch [52 / 100], Step [400 / 600], d_loss: 1.0027, g_loss: 1.3655, D(x): 0.59, D(G(z)): 0.29\n",
            "Epoch [52 / 100], Step [600 / 600], d_loss: 1.0477, g_loss: 1.3037, D(x): 0.65, D(G(z)): 0.36\n",
            "Epoch [53 / 100], Step [200 / 600], d_loss: 1.0091, g_loss: 1.3307, D(x): 0.66, D(G(z)): 0.37\n",
            "Epoch [53 / 100], Step [400 / 600], d_loss: 1.0620, g_loss: 1.1894, D(x): 0.60, D(G(z)): 0.33\n",
            "Epoch [53 / 100], Step [600 / 600], d_loss: 1.0438, g_loss: 1.4318, D(x): 0.66, D(G(z)): 0.36\n",
            "Epoch [54 / 100], Step [200 / 600], d_loss: 0.9866, g_loss: 1.2251, D(x): 0.63, D(G(z)): 0.31\n",
            "Epoch [54 / 100], Step [400 / 600], d_loss: 1.0841, g_loss: 1.1666, D(x): 0.61, D(G(z)): 0.37\n",
            "Epoch [54 / 100], Step [600 / 600], d_loss: 1.2140, g_loss: 1.2019, D(x): 0.57, D(G(z)): 0.36\n",
            "Epoch [55 / 100], Step [200 / 600], d_loss: 1.2396, g_loss: 1.1827, D(x): 0.55, D(G(z)): 0.37\n",
            "Epoch [55 / 100], Step [400 / 600], d_loss: 1.2393, g_loss: 1.0645, D(x): 0.61, D(G(z)): 0.42\n",
            "Epoch [55 / 100], Step [600 / 600], d_loss: 1.1248, g_loss: 1.0284, D(x): 0.63, D(G(z)): 0.39\n",
            "Epoch [56 / 100], Step [200 / 600], d_loss: 1.1612, g_loss: 1.0944, D(x): 0.64, D(G(z)): 0.41\n",
            "Epoch [56 / 100], Step [400 / 600], d_loss: 1.0684, g_loss: 1.2758, D(x): 0.64, D(G(z)): 0.38\n",
            "Epoch [56 / 100], Step [600 / 600], d_loss: 1.0579, g_loss: 1.2719, D(x): 0.64, D(G(z)): 0.36\n",
            "Epoch [57 / 100], Step [200 / 600], d_loss: 1.1140, g_loss: 1.1425, D(x): 0.60, D(G(z)): 0.36\n",
            "Epoch [57 / 100], Step [400 / 600], d_loss: 1.0936, g_loss: 1.2343, D(x): 0.65, D(G(z)): 0.39\n",
            "Epoch [57 / 100], Step [600 / 600], d_loss: 1.1374, g_loss: 1.1214, D(x): 0.57, D(G(z)): 0.33\n",
            "Epoch [58 / 100], Step [200 / 600], d_loss: 1.1821, g_loss: 1.0905, D(x): 0.57, D(G(z)): 0.39\n",
            "Epoch [58 / 100], Step [400 / 600], d_loss: 1.1187, g_loss: 1.2673, D(x): 0.59, D(G(z)): 0.37\n",
            "Epoch [58 / 100], Step [600 / 600], d_loss: 1.2013, g_loss: 1.0570, D(x): 0.62, D(G(z)): 0.42\n",
            "Epoch [59 / 100], Step [200 / 600], d_loss: 1.0888, g_loss: 1.0702, D(x): 0.64, D(G(z)): 0.39\n",
            "Epoch [59 / 100], Step [400 / 600], d_loss: 1.0961, g_loss: 1.0848, D(x): 0.63, D(G(z)): 0.38\n",
            "Epoch [59 / 100], Step [600 / 600], d_loss: 1.0558, g_loss: 1.2092, D(x): 0.63, D(G(z)): 0.38\n",
            "Epoch [60 / 100], Step [200 / 600], d_loss: 1.3081, g_loss: 1.0000, D(x): 0.52, D(G(z)): 0.37\n",
            "Epoch [60 / 100], Step [400 / 600], d_loss: 1.0209, g_loss: 1.1094, D(x): 0.66, D(G(z)): 0.39\n",
            "Epoch [60 / 100], Step [600 / 600], d_loss: 1.0826, g_loss: 1.1933, D(x): 0.63, D(G(z)): 0.39\n",
            "Epoch [61 / 100], Step [200 / 600], d_loss: 0.9931, g_loss: 1.2121, D(x): 0.62, D(G(z)): 0.33\n",
            "Epoch [61 / 100], Step [400 / 600], d_loss: 1.0019, g_loss: 1.1047, D(x): 0.67, D(G(z)): 0.36\n",
            "Epoch [61 / 100], Step [600 / 600], d_loss: 1.1113, g_loss: 1.0182, D(x): 0.63, D(G(z)): 0.40\n",
            "Epoch [62 / 100], Step [200 / 600], d_loss: 1.2267, g_loss: 1.0175, D(x): 0.61, D(G(z)): 0.42\n",
            "Epoch [62 / 100], Step [400 / 600], d_loss: 1.1959, g_loss: 1.1563, D(x): 0.60, D(G(z)): 0.37\n",
            "Epoch [62 / 100], Step [600 / 600], d_loss: 1.1844, g_loss: 1.2263, D(x): 0.60, D(G(z)): 0.41\n",
            "Epoch [63 / 100], Step [200 / 600], d_loss: 1.1265, g_loss: 1.1571, D(x): 0.58, D(G(z)): 0.34\n",
            "Epoch [63 / 100], Step [400 / 600], d_loss: 1.1119, g_loss: 0.9452, D(x): 0.62, D(G(z)): 0.40\n",
            "Epoch [63 / 100], Step [600 / 600], d_loss: 1.1743, g_loss: 0.9896, D(x): 0.58, D(G(z)): 0.38\n",
            "Epoch [64 / 100], Step [200 / 600], d_loss: 1.1976, g_loss: 1.1300, D(x): 0.60, D(G(z)): 0.39\n",
            "Epoch [64 / 100], Step [400 / 600], d_loss: 1.2502, g_loss: 1.1214, D(x): 0.63, D(G(z)): 0.46\n",
            "Epoch [64 / 100], Step [600 / 600], d_loss: 1.0900, g_loss: 1.0102, D(x): 0.63, D(G(z)): 0.39\n",
            "Epoch [65 / 100], Step [200 / 600], d_loss: 1.2896, g_loss: 0.8968, D(x): 0.61, D(G(z)): 0.44\n",
            "Epoch [65 / 100], Step [400 / 600], d_loss: 1.1959, g_loss: 1.1476, D(x): 0.63, D(G(z)): 0.41\n",
            "Epoch [65 / 100], Step [600 / 600], d_loss: 1.1636, g_loss: 1.0193, D(x): 0.58, D(G(z)): 0.38\n",
            "Epoch [66 / 100], Step [200 / 600], d_loss: 1.0941, g_loss: 1.0825, D(x): 0.62, D(G(z)): 0.39\n",
            "Epoch [66 / 100], Step [400 / 600], d_loss: 1.1879, g_loss: 0.8899, D(x): 0.58, D(G(z)): 0.42\n",
            "Epoch [66 / 100], Step [600 / 600], d_loss: 1.2226, g_loss: 1.1765, D(x): 0.57, D(G(z)): 0.40\n",
            "Epoch [67 / 100], Step [200 / 600], d_loss: 1.0502, g_loss: 1.1694, D(x): 0.59, D(G(z)): 0.34\n",
            "Epoch [67 / 100], Step [400 / 600], d_loss: 1.1362, g_loss: 1.3678, D(x): 0.59, D(G(z)): 0.35\n",
            "Epoch [67 / 100], Step [600 / 600], d_loss: 1.1793, g_loss: 1.0573, D(x): 0.66, D(G(z)): 0.45\n",
            "Epoch [68 / 100], Step [200 / 600], d_loss: 1.2427, g_loss: 0.9669, D(x): 0.60, D(G(z)): 0.42\n",
            "Epoch [68 / 100], Step [400 / 600], d_loss: 1.3024, g_loss: 0.8989, D(x): 0.59, D(G(z)): 0.45\n",
            "Epoch [68 / 100], Step [600 / 600], d_loss: 1.1689, g_loss: 1.0357, D(x): 0.59, D(G(z)): 0.40\n",
            "Epoch [69 / 100], Step [200 / 600], d_loss: 1.1592, g_loss: 1.1370, D(x): 0.56, D(G(z)): 0.36\n",
            "Epoch [69 / 100], Step [400 / 600], d_loss: 1.1637, g_loss: 1.0483, D(x): 0.59, D(G(z)): 0.40\n",
            "Epoch [69 / 100], Step [600 / 600], d_loss: 1.2722, g_loss: 1.1759, D(x): 0.52, D(G(z)): 0.39\n",
            "Epoch [70 / 100], Step [200 / 600], d_loss: 1.1145, g_loss: 1.2298, D(x): 0.58, D(G(z)): 0.36\n",
            "Epoch [70 / 100], Step [400 / 600], d_loss: 1.0519, g_loss: 1.2412, D(x): 0.58, D(G(z)): 0.33\n",
            "Epoch [70 / 100], Step [600 / 600], d_loss: 1.0592, g_loss: 1.2188, D(x): 0.62, D(G(z)): 0.35\n",
            "Epoch [71 / 100], Step [200 / 600], d_loss: 1.1689, g_loss: 1.0568, D(x): 0.64, D(G(z)): 0.42\n",
            "Epoch [71 / 100], Step [400 / 600], d_loss: 1.1160, g_loss: 1.1586, D(x): 0.62, D(G(z)): 0.38\n",
            "Epoch [71 / 100], Step [600 / 600], d_loss: 1.1375, g_loss: 1.0938, D(x): 0.62, D(G(z)): 0.41\n",
            "Epoch [72 / 100], Step [200 / 600], d_loss: 1.2044, g_loss: 0.7576, D(x): 0.62, D(G(z)): 0.45\n",
            "Epoch [72 / 100], Step [400 / 600], d_loss: 1.1094, g_loss: 1.0724, D(x): 0.63, D(G(z)): 0.39\n",
            "Epoch [72 / 100], Step [600 / 600], d_loss: 1.2004, g_loss: 1.0272, D(x): 0.58, D(G(z)): 0.40\n",
            "Epoch [73 / 100], Step [200 / 600], d_loss: 1.3091, g_loss: 0.8692, D(x): 0.60, D(G(z)): 0.48\n",
            "Epoch [73 / 100], Step [400 / 600], d_loss: 1.2016, g_loss: 0.9232, D(x): 0.61, D(G(z)): 0.43\n",
            "Epoch [73 / 100], Step [600 / 600], d_loss: 1.1676, g_loss: 1.1868, D(x): 0.61, D(G(z)): 0.39\n",
            "Epoch [74 / 100], Step [200 / 600], d_loss: 1.1675, g_loss: 1.1812, D(x): 0.59, D(G(z)): 0.37\n",
            "Epoch [74 / 100], Step [400 / 600], d_loss: 1.1218, g_loss: 1.1426, D(x): 0.61, D(G(z)): 0.39\n",
            "Epoch [74 / 100], Step [600 / 600], d_loss: 1.2525, g_loss: 0.8640, D(x): 0.59, D(G(z)): 0.43\n",
            "Epoch [75 / 100], Step [200 / 600], d_loss: 1.1708, g_loss: 1.0621, D(x): 0.59, D(G(z)): 0.38\n",
            "Epoch [75 / 100], Step [400 / 600], d_loss: 1.0502, g_loss: 1.0001, D(x): 0.65, D(G(z)): 0.40\n",
            "Epoch [75 / 100], Step [600 / 600], d_loss: 1.0375, g_loss: 1.0732, D(x): 0.62, D(G(z)): 0.35\n",
            "Epoch [76 / 100], Step [200 / 600], d_loss: 1.1607, g_loss: 1.2162, D(x): 0.58, D(G(z)): 0.39\n",
            "Epoch [76 / 100], Step [400 / 600], d_loss: 1.2326, g_loss: 1.0529, D(x): 0.57, D(G(z)): 0.41\n",
            "Epoch [76 / 100], Step [600 / 600], d_loss: 1.2614, g_loss: 0.7963, D(x): 0.68, D(G(z)): 0.50\n",
            "Epoch [77 / 100], Step [200 / 600], d_loss: 1.2145, g_loss: 0.9805, D(x): 0.57, D(G(z)): 0.40\n",
            "Epoch [77 / 100], Step [400 / 600], d_loss: 1.2550, g_loss: 0.9338, D(x): 0.57, D(G(z)): 0.41\n",
            "Epoch [77 / 100], Step [600 / 600], d_loss: 1.1359, g_loss: 0.9268, D(x): 0.62, D(G(z)): 0.43\n",
            "Epoch [78 / 100], Step [200 / 600], d_loss: 1.1897, g_loss: 1.1328, D(x): 0.55, D(G(z)): 0.39\n",
            "Epoch [78 / 100], Step [400 / 600], d_loss: 1.1462, g_loss: 0.9882, D(x): 0.63, D(G(z)): 0.43\n",
            "Epoch [78 / 100], Step [600 / 600], d_loss: 1.1698, g_loss: 1.0521, D(x): 0.64, D(G(z)): 0.44\n",
            "Epoch [79 / 100], Step [200 / 600], d_loss: 1.1164, g_loss: 1.1898, D(x): 0.59, D(G(z)): 0.36\n",
            "Epoch [79 / 100], Step [400 / 600], d_loss: 1.1516, g_loss: 0.8588, D(x): 0.63, D(G(z)): 0.43\n",
            "Epoch [79 / 100], Step [600 / 600], d_loss: 1.0769, g_loss: 1.1349, D(x): 0.64, D(G(z)): 0.41\n",
            "Epoch [80 / 100], Step [200 / 600], d_loss: 1.0759, g_loss: 1.0084, D(x): 0.67, D(G(z)): 0.43\n",
            "Epoch [80 / 100], Step [400 / 600], d_loss: 1.1550, g_loss: 1.0576, D(x): 0.60, D(G(z)): 0.41\n",
            "Epoch [80 / 100], Step [600 / 600], d_loss: 1.1861, g_loss: 1.0182, D(x): 0.62, D(G(z)): 0.44\n",
            "Epoch [81 / 100], Step [200 / 600], d_loss: 1.0692, g_loss: 1.1815, D(x): 0.60, D(G(z)): 0.35\n",
            "Epoch [81 / 100], Step [400 / 600], d_loss: 1.2323, g_loss: 1.0960, D(x): 0.58, D(G(z)): 0.42\n",
            "Epoch [81 / 100], Step [600 / 600], d_loss: 1.2151, g_loss: 1.0978, D(x): 0.59, D(G(z)): 0.40\n",
            "Epoch [82 / 100], Step [200 / 600], d_loss: 1.0265, g_loss: 1.2032, D(x): 0.62, D(G(z)): 0.33\n",
            "Epoch [82 / 100], Step [400 / 600], d_loss: 1.1380, g_loss: 0.9385, D(x): 0.57, D(G(z)): 0.38\n",
            "Epoch [82 / 100], Step [600 / 600], d_loss: 1.2155, g_loss: 0.9564, D(x): 0.56, D(G(z)): 0.41\n",
            "Epoch [83 / 100], Step [200 / 600], d_loss: 1.3074, g_loss: 0.9868, D(x): 0.61, D(G(z)): 0.47\n",
            "Epoch [83 / 100], Step [400 / 600], d_loss: 1.2822, g_loss: 0.8882, D(x): 0.56, D(G(z)): 0.43\n",
            "Epoch [83 / 100], Step [600 / 600], d_loss: 1.2663, g_loss: 1.0170, D(x): 0.55, D(G(z)): 0.42\n",
            "Epoch [84 / 100], Step [200 / 600], d_loss: 1.1798, g_loss: 1.0997, D(x): 0.61, D(G(z)): 0.41\n",
            "Epoch [84 / 100], Step [400 / 600], d_loss: 1.1394, g_loss: 1.0754, D(x): 0.59, D(G(z)): 0.38\n",
            "Epoch [84 / 100], Step [600 / 600], d_loss: 1.0545, g_loss: 1.0643, D(x): 0.63, D(G(z)): 0.39\n",
            "Epoch [85 / 100], Step [200 / 600], d_loss: 1.1327, g_loss: 0.9918, D(x): 0.62, D(G(z)): 0.42\n",
            "Epoch [85 / 100], Step [400 / 600], d_loss: 1.1615, g_loss: 1.0575, D(x): 0.59, D(G(z)): 0.39\n",
            "Epoch [85 / 100], Step [600 / 600], d_loss: 1.2171, g_loss: 1.0089, D(x): 0.59, D(G(z)): 0.43\n",
            "Epoch [86 / 100], Step [200 / 600], d_loss: 1.3300, g_loss: 0.8865, D(x): 0.55, D(G(z)): 0.46\n",
            "Epoch [86 / 100], Step [400 / 600], d_loss: 1.4830, g_loss: 0.8323, D(x): 0.53, D(G(z)): 0.48\n",
            "Epoch [86 / 100], Step [600 / 600], d_loss: 1.1736, g_loss: 1.1567, D(x): 0.61, D(G(z)): 0.41\n",
            "Epoch [87 / 100], Step [200 / 600], d_loss: 1.1637, g_loss: 1.0655, D(x): 0.58, D(G(z)): 0.39\n",
            "Epoch [87 / 100], Step [400 / 600], d_loss: 1.1493, g_loss: 1.1014, D(x): 0.56, D(G(z)): 0.38\n",
            "Epoch [87 / 100], Step [600 / 600], d_loss: 1.3487, g_loss: 0.9289, D(x): 0.56, D(G(z)): 0.47\n",
            "Epoch [88 / 100], Step [200 / 600], d_loss: 1.2262, g_loss: 0.9509, D(x): 0.61, D(G(z)): 0.46\n",
            "Epoch [88 / 100], Step [400 / 600], d_loss: 1.3270, g_loss: 0.9553, D(x): 0.56, D(G(z)): 0.46\n",
            "Epoch [88 / 100], Step [600 / 600], d_loss: 1.1909, g_loss: 0.9297, D(x): 0.59, D(G(z)): 0.42\n",
            "Epoch [89 / 100], Step [200 / 600], d_loss: 1.2023, g_loss: 0.9929, D(x): 0.59, D(G(z)): 0.40\n",
            "Epoch [89 / 100], Step [400 / 600], d_loss: 1.2194, g_loss: 1.0765, D(x): 0.57, D(G(z)): 0.42\n",
            "Epoch [89 / 100], Step [600 / 600], d_loss: 1.2803, g_loss: 1.0800, D(x): 0.57, D(G(z)): 0.41\n",
            "Epoch [90 / 100], Step [200 / 600], d_loss: 1.3584, g_loss: 0.9476, D(x): 0.57, D(G(z)): 0.48\n",
            "Epoch [90 / 100], Step [400 / 600], d_loss: 1.3133, g_loss: 0.9327, D(x): 0.54, D(G(z)): 0.42\n",
            "Epoch [90 / 100], Step [600 / 600], d_loss: 1.1511, g_loss: 1.1046, D(x): 0.59, D(G(z)): 0.38\n",
            "Epoch [91 / 100], Step [200 / 600], d_loss: 1.2074, g_loss: 0.9409, D(x): 0.57, D(G(z)): 0.41\n",
            "Epoch [91 / 100], Step [400 / 600], d_loss: 1.2394, g_loss: 1.0285, D(x): 0.58, D(G(z)): 0.43\n",
            "Epoch [91 / 100], Step [600 / 600], d_loss: 1.0979, g_loss: 1.0396, D(x): 0.59, D(G(z)): 0.38\n",
            "Epoch [92 / 100], Step [200 / 600], d_loss: 1.1493, g_loss: 1.3312, D(x): 0.57, D(G(z)): 0.36\n",
            "Epoch [92 / 100], Step [400 / 600], d_loss: 1.2463, g_loss: 0.8949, D(x): 0.59, D(G(z)): 0.44\n",
            "Epoch [92 / 100], Step [600 / 600], d_loss: 1.2622, g_loss: 0.8580, D(x): 0.58, D(G(z)): 0.45\n",
            "Epoch [93 / 100], Step [200 / 600], d_loss: 1.2391, g_loss: 0.9667, D(x): 0.59, D(G(z)): 0.45\n",
            "Epoch [93 / 100], Step [400 / 600], d_loss: 1.2519, g_loss: 1.0191, D(x): 0.56, D(G(z)): 0.42\n",
            "Epoch [93 / 100], Step [600 / 600], d_loss: 1.1666, g_loss: 1.0122, D(x): 0.59, D(G(z)): 0.41\n",
            "Epoch [94 / 100], Step [200 / 600], d_loss: 1.2538, g_loss: 0.9280, D(x): 0.57, D(G(z)): 0.44\n",
            "Epoch [94 / 100], Step [400 / 600], d_loss: 1.2432, g_loss: 0.8564, D(x): 0.57, D(G(z)): 0.42\n",
            "Epoch [94 / 100], Step [600 / 600], d_loss: 1.1380, g_loss: 1.1181, D(x): 0.60, D(G(z)): 0.40\n",
            "Epoch [95 / 100], Step [200 / 600], d_loss: 1.2531, g_loss: 0.7697, D(x): 0.60, D(G(z)): 0.47\n",
            "Epoch [95 / 100], Step [400 / 600], d_loss: 1.2452, g_loss: 0.9990, D(x): 0.59, D(G(z)): 0.45\n",
            "Epoch [95 / 100], Step [600 / 600], d_loss: 1.2567, g_loss: 1.0024, D(x): 0.53, D(G(z)): 0.40\n",
            "Epoch [96 / 100], Step [200 / 600], d_loss: 1.2434, g_loss: 1.0028, D(x): 0.59, D(G(z)): 0.44\n",
            "Epoch [96 / 100], Step [400 / 600], d_loss: 1.2089, g_loss: 1.0391, D(x): 0.59, D(G(z)): 0.42\n",
            "Epoch [96 / 100], Step [600 / 600], d_loss: 1.3609, g_loss: 0.8898, D(x): 0.52, D(G(z)): 0.43\n",
            "Epoch [97 / 100], Step [200 / 600], d_loss: 1.2912, g_loss: 0.9630, D(x): 0.56, D(G(z)): 0.43\n",
            "Epoch [97 / 100], Step [400 / 600], d_loss: 1.1786, g_loss: 1.1658, D(x): 0.58, D(G(z)): 0.40\n",
            "Epoch [97 / 100], Step [600 / 600], d_loss: 1.2738, g_loss: 1.0324, D(x): 0.56, D(G(z)): 0.43\n",
            "Epoch [98 / 100], Step [200 / 600], d_loss: 1.3282, g_loss: 0.9522, D(x): 0.56, D(G(z)): 0.45\n",
            "Epoch [98 / 100], Step [400 / 600], d_loss: 1.2517, g_loss: 1.0369, D(x): 0.57, D(G(z)): 0.41\n",
            "Epoch [98 / 100], Step [600 / 600], d_loss: 1.2748, g_loss: 1.1156, D(x): 0.55, D(G(z)): 0.41\n",
            "Epoch [99 / 100], Step [200 / 600], d_loss: 1.1295, g_loss: 1.0308, D(x): 0.59, D(G(z)): 0.39\n",
            "Epoch [99 / 100], Step [400 / 600], d_loss: 1.2626, g_loss: 0.9635, D(x): 0.55, D(G(z)): 0.42\n",
            "Epoch [99 / 100], Step [600 / 600], d_loss: 1.1610, g_loss: 1.0079, D(x): 0.60, D(G(z)): 0.40\n"
          ],
          "name": "stdout"
        }
      ]
    },
    {
      "cell_type": "code",
      "metadata": {
        "id": "kI5inBdAzPFK",
        "colab_type": "code",
        "colab": {}
      },
      "source": [
        "img = torchvision.utils.make_grid(fake_images)"
      ],
      "execution_count": null,
      "outputs": []
    },
    {
      "cell_type": "code",
      "metadata": {
        "id": "TzGtQnzy2-if",
        "colab_type": "code",
        "colab": {}
      },
      "source": [
        "img = img.detach().cpu().numpy()\n",
        "img = img.clip(0, 1)\n"
      ],
      "execution_count": null,
      "outputs": []
    },
    {
      "cell_type": "code",
      "metadata": {
        "id": "10LP3udL3M6S",
        "colab_type": "code",
        "colab": {
          "base_uri": "https://localhost:8080/"
        },
        "outputId": "c4da7345-a0fa-411e-e3b3-4156c23a160a"
      },
      "source": [
        "plt.figure(figsize = (12, 12))\n",
        "plt.imshow(np.transpose(img, (1, 2, 0)))\n",
        "plt.axis('off')\n",
        "plt.show()"
      ],
      "execution_count": null,
      "outputs": [
        {
          "output_type": "display_data",
          "data": {
            "image/png": "[encoded data removed]",
            "text/plain": [
              "<Figure size 864x864 with 1 Axes>"
            ]
          },
          "metadata": {
            "tags": [],
            "needs_background": "light"
          }
        }
      ]
    },
    {
      "cell_type": "code",
      "metadata": {
        "id": "mjXB5IQh3dw3",
        "colab_type": "code",
        "colab": {}
      },
      "source": [
        ""
      ],
      "execution_count": null,
      "outputs": []
    }
  ]
}